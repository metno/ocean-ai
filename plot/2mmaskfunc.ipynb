{
 "cells": [
  {
   "cell_type": "code",
   "execution_count": 1,
   "id": "adf44056",
   "metadata": {},
   "outputs": [],
   "source": [
    "#Importing necessary datasets\n",
    "import xarray as xr\n",
    "import matplotlib.pyplot as plt \n",
    "import numpy as np \n"
   ]
  },
  {
   "cell_type": "code",
   "execution_count": 4,
   "id": "b4fc0857",
   "metadata": {},
   "outputs": [
    {
     "name": "stdout",
     "output_type": "stream",
     "text": [
      "Requirement already satisfied: seaborn in /lustre/storeA/users/makar5578/.venv/lib64/python3.11/site-packages (0.13.2)\n",
      "Requirement already satisfied: numpy!=1.24.0,>=1.20 in /lustre/storeA/users/makar5578/.venv/lib64/python3.11/site-packages (from seaborn) (2.3.1)\n",
      "Requirement already satisfied: pandas>=1.2 in /lustre/storeA/users/makar5578/.venv/lib64/python3.11/site-packages (from seaborn) (2.3.0)\n",
      "Requirement already satisfied: matplotlib!=3.6.1,>=3.4 in /lustre/storeA/users/makar5578/.venv/lib64/python3.11/site-packages (from seaborn) (3.10.3)\n",
      "Requirement already satisfied: contourpy>=1.0.1 in /lustre/storeA/users/makar5578/.venv/lib64/python3.11/site-packages (from matplotlib!=3.6.1,>=3.4->seaborn) (1.3.2)\n",
      "Requirement already satisfied: cycler>=0.10 in /lustre/storeA/users/makar5578/.venv/lib64/python3.11/site-packages (from matplotlib!=3.6.1,>=3.4->seaborn) (0.12.1)\n",
      "Requirement already satisfied: fonttools>=4.22.0 in /lustre/storeA/users/makar5578/.venv/lib64/python3.11/site-packages (from matplotlib!=3.6.1,>=3.4->seaborn) (4.58.4)\n",
      "Requirement already satisfied: kiwisolver>=1.3.1 in /lustre/storeA/users/makar5578/.venv/lib64/python3.11/site-packages (from matplotlib!=3.6.1,>=3.4->seaborn) (1.4.8)\n",
      "Requirement already satisfied: packaging>=20.0 in /lustre/storeA/users/makar5578/.venv/lib64/python3.11/site-packages (from matplotlib!=3.6.1,>=3.4->seaborn) (25.0)\n",
      "Requirement already satisfied: pillow>=8 in /lustre/storeA/users/makar5578/.venv/lib64/python3.11/site-packages (from matplotlib!=3.6.1,>=3.4->seaborn) (11.2.1)\n",
      "Requirement already satisfied: pyparsing>=2.3.1 in /lustre/storeA/users/makar5578/.venv/lib64/python3.11/site-packages (from matplotlib!=3.6.1,>=3.4->seaborn) (3.2.3)\n",
      "Requirement already satisfied: python-dateutil>=2.7 in /lustre/storeA/users/makar5578/.venv/lib64/python3.11/site-packages (from matplotlib!=3.6.1,>=3.4->seaborn) (2.9.0.post0)\n",
      "Requirement already satisfied: pytz>=2020.1 in /lustre/storeA/users/makar5578/.venv/lib64/python3.11/site-packages (from pandas>=1.2->seaborn) (2025.2)\n",
      "Requirement already satisfied: tzdata>=2022.7 in /lustre/storeA/users/makar5578/.venv/lib64/python3.11/site-packages (from pandas>=1.2->seaborn) (2025.2)\n",
      "Requirement already satisfied: six>=1.5 in /lustre/storeA/users/makar5578/.venv/lib64/python3.11/site-packages (from python-dateutil>=2.7->matplotlib!=3.6.1,>=3.4->seaborn) (1.17.0)\n",
      "Note: you may need to restart the kernel to use updated packages.\n"
     ]
    }
   ],
   "source": [
    "#Manually installing seaborn due to problems with the terminal\n",
    "%pip install seaborn\n",
    "#pip show seaborn\n",
    "import seaborn as sns"
   ]
  },
  {
   "cell_type": "code",
   "execution_count": null,
   "id": "40291e0e",
   "metadata": {},
   "outputs": [],
   "source": [
    "#Importing the datasets and selecting different timesteps to reduce dataset\n",
    "file = f'/lustre/storeA/project/fou/hi/oper/norkyst_v3/forecast/his/2025/06/01/norkyst800_his_sdepth_20250601T00Z_m00_AN.nc'\n",
    "ds_norkyst = xr.open_dataset(file, engine=\"netcdf4\").isel(ocean_time = 1)"
   ]
  },
  {
   "cell_type": "code",
   "execution_count": null,
   "id": "814b8e97",
   "metadata": {},
   "outputs": [],
   "source": [
    "#check datafile \n",
    "ds_norkyst.head()"
   ]
  },
  {
   "cell_type": "markdown",
   "id": "d618e126",
   "metadata": {},
   "source": [
    "Explanation of code:\n",
    "$\\newline$\n",
    "The transformation is an approach following xroms example on xarrays website:\n",
    "$\\newline$\n",
    "$Z_0 = \\frac{h_c \\cdot S + h \\cdot C}{h_c + h }$\n",
    "$\\newline$\n",
    "$z = Z_0 (\\zeta + h) + \\zeta$\n",
    "$\\newline$\n",
    "This creates a new datacoordinate Z_rho. \n",
    "\n",
    "Explanation: \n",
    "The code calculates the midpoint of each s-layer depending on which transformation is found in the V-transform. V-transform == 2 is more regulary used for newer ROMS models according to xroms. \n",
    "$\\newline$\n",
    "The calculations creates a variable $Z_0$ which is calculated by the use of:\n",
    "$\\newline$\n",
    "hc = critical depth for stretching \n",
    "$\\newline$\n",
    "$s_rho$ = s-layers \n",
    "$\\newline$\n",
    "h = total depth\n",
    "$\\newline$\n",
    "$Cs_r$ = stretching curve for the rho points\n",
    "$\\newline$\n",
    "$\\zeta$ = free surface  \n",
    "$\\newline$\n",
    "\n",
    "$Z_0$ explains the depth at a given grid cell using the stretching features including the topography, but it excludes the surface layer.\n",
    "$z_{rho}$ then includes the surface elevation by including $\\zeta$ in the calculations and providing the dataset with a new coordinate defining the depth of the grid cells. \n",
    "\n",
    "$\\newline$\n",
    "$\\newline$\n",
    "\n",
    "Finding the 2m values:\n",
    "1. Take the absolute value of the depths (using z_rho) and then subtracting two, to then be able to pick out the resulting numbers closest to zero. Those closest to zero will be the ones near 2meters depth in the model.\n",
    "2. The diff.fillna function allows us to have zeros as a value for the landvalues rather than nan, as nan gives errors. Though this is corrected later in the code when plotting with seaborn to ensure the land is visibly different from the rest of the plot.  \n",
    "3. Using argmin, I am selecting out the index of the number closest to zero, to find which s_layer it belongs to. This is why the dimension being called on is s_rho. \n",
    "4. Then selecting the index array defined above of those closest to two meters, I use this as an isel, only selecting out these z_rho values to create a new array. "
   ]
  },
  {
   "cell_type": "code",
   "execution_count": 9,
   "id": "9bad7f6f",
   "metadata": {},
   "outputs": [],
   "source": [
    "def finding_2m_layer(ds_name,index,close_to_2m_val):\n",
    "    #Define necessary variables used for the transformation from s_layer to depth\n",
    "    hc = ds_name[\"hc\"] #Critical depth for stretching\n",
    "    cs_r = ds_name[\"Cs_r\"] #stretching curve at rho points\n",
    "    zeta = ds_name[\"zeta\"] #.fillna(0) #free-surface \n",
    "    H = ds_name[\"h\"] #bathymetry at rho-points (depth)\n",
    "    theta_s = ds_name[\"theta_s\"] #stretching surface\n",
    "    theta_b = ds_name[\"theta_b\"] #stretching bottom \n",
    "    Vtransform = ds_name[\"Vtransform\"]\n",
    "    s_rho = ds_name[\"s_rho\"] #range 1,40. 40 is surface layer\n",
    "\n",
    "    #Transformation process\n",
    "    if Vtransform == 1:\n",
    "        Z_0_rho = hc * (s_rho - cs_r) + cs_r * H\n",
    "        z_rho = Z_0_rho + zeta * (1+Z_0_rho/H)\n",
    "    elif Vtransform == 2:\n",
    "        Z_0_rho = (hc * s_rho + cs_r * H) / (hc + H)\n",
    "        z_rho = zeta + (zeta + H) * Z_0_rho\n",
    "\n",
    "    ds_name.coords[\"z_rho\"] = z_rho.transpose() #Corrects the dimensions\n",
    "\n",
    "    #calculating the 2meters depth and creating two new arrays. One controlrun\n",
    "    #for the actual values and one array containing the indexes of the values.\n",
    "    z_rho_pos = abs(ds_name[\"z_rho\"])\n",
    "    diff = abs(z_rho_pos-2)\n",
    "    diff = diff.fillna(0)\n",
    "    index = diff.argmin(dim = \"s_rho\")\n",
    "    close_to_2m_val = z_rho.isel(s_rho=index)\n",
    "    #zero = nan in plot\n",
    "    index = index.where(index != 0)\n",
    "    ax = sns.heatmap(np.array(index)[::-1,::-1], vmin=25)\n",
    "    return ds_name, index, close_to_2m_val\n"
   ]
  },
  {
   "cell_type": "code",
   "execution_count": null,
   "id": "614f8a6b",
   "metadata": {},
   "outputs": [],
   "source": []
  }
 ],
 "metadata": {
  "kernelspec": {
   "display_name": ".venv",
   "language": "python",
   "name": "python3"
  },
  "language_info": {
   "codemirror_mode": {
    "name": "ipython",
    "version": 3
   },
   "file_extension": ".py",
   "mimetype": "text/x-python",
   "name": "python",
   "nbconvert_exporter": "python",
   "pygments_lexer": "ipython3",
   "version": "3.11.11"
  }
 },
 "nbformat": 4,
 "nbformat_minor": 5
}
