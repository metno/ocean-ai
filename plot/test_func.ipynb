{
 "cells": [
  {
   "cell_type": "code",
   "execution_count": 4,
   "id": "43c423e8",
   "metadata": {},
   "outputs": [],
   "source": [
    "import xarray as xr\n",
    "import pandas as pd"
   ]
  },
  {
   "cell_type": "code",
   "execution_count": 21,
   "id": "0afe1908",
   "metadata": {},
   "outputs": [
    {
     "name": "stderr",
     "output_type": "stream",
     "text": [
      "/tmp/ipykernel_2576019/1320785067.py:2: FutureWarning: The 'delim_whitespace' keyword in pd.read_csv is deprecated and will be removed in a future version. Use ``sep='\\s+'`` instead\n",
      "  mse_epoch = pd.read_csv(f'{file_path}', delim_whitespace=True, names=[\"idk\", \"idk2\", \"idk3\"])\n"
     ]
    }
   ],
   "source": [
    "file_path = f'/lustre/storeB/project/fou/hi/foccus/experiments/min-max-all-2017-24/mlflow/187656373550779284/90ed5f0579a94e1cacec799fe5fcc6f1/metrics/train_mse_loss_epoch'\n",
    "mse_epoch = pd.read_csv(f'{file_path}', delim_whitespace=True, names=[\"idk\", \"idk2\", \"idk3\"])"
   ]
  },
  {
   "cell_type": "code",
   "execution_count": null,
   "id": "6568d29c",
   "metadata": {},
   "outputs": [
    {
     "data": {
      "text/html": [
       "<div>\n",
       "<style scoped>\n",
       "    .dataframe tbody tr th:only-of-type {\n",
       "        vertical-align: middle;\n",
       "    }\n",
       "\n",
       "    .dataframe tbody tr th {\n",
       "        vertical-align: top;\n",
       "    }\n",
       "\n",
       "    .dataframe thead th {\n",
       "        text-align: right;\n",
       "    }\n",
       "</style>\n",
       "<table border=\"1\" class=\"dataframe\">\n",
       "  <thead>\n",
       "    <tr style=\"text-align: right;\">\n",
       "      <th></th>\n",
       "      <th>idk</th>\n",
       "      <th>idk2</th>\n",
       "      <th>idk3</th>\n",
       "    </tr>\n",
       "  </thead>\n",
       "  <tbody>\n",
       "    <tr>\n",
       "      <th>0</th>\n",
       "      <td>1752216689684</td>\n",
       "      <td>0.016650</td>\n",
       "      <td>291</td>\n",
       "    </tr>\n",
       "    <tr>\n",
       "      <th>1</th>\n",
       "      <td>1752219046897</td>\n",
       "      <td>0.002661</td>\n",
       "      <td>583</td>\n",
       "    </tr>\n",
       "    <tr>\n",
       "      <th>2</th>\n",
       "      <td>1752221316396</td>\n",
       "      <td>0.000978</td>\n",
       "      <td>875</td>\n",
       "    </tr>\n",
       "    <tr>\n",
       "      <th>3</th>\n",
       "      <td>1752223395810</td>\n",
       "      <td>0.000602</td>\n",
       "      <td>1167</td>\n",
       "    </tr>\n",
       "    <tr>\n",
       "      <th>4</th>\n",
       "      <td>1752225228106</td>\n",
       "      <td>0.000497</td>\n",
       "      <td>1459</td>\n",
       "    </tr>\n",
       "  </tbody>\n",
       "</table>\n",
       "</div>"
      ],
      "text/plain": [
       "             idk      idk2  idk3\n",
       "0  1752216689684  0.016650   291\n",
       "1  1752219046897  0.002661   583\n",
       "2  1752221316396  0.000978   875\n",
       "3  1752223395810  0.000602  1167\n",
       "4  1752225228106  0.000497  1459"
      ]
     },
     "execution_count": 22,
     "metadata": {},
     "output_type": "execute_result"
    }
   ],
   "source": [
    "mse_epoch.head()\n",
    "#Er det ID kjøring, MSE verdi og Step? "
   ]
  },
  {
   "cell_type": "code",
   "execution_count": 23,
   "id": "f9e63e9c",
   "metadata": {},
   "outputs": [],
   "source": [
    "import matplotlib.pyplot as plt\n"
   ]
  },
  {
   "cell_type": "code",
   "execution_count": 29,
   "id": "669c4030",
   "metadata": {},
   "outputs": [
    {
     "data": {
      "text/plain": [
       "Text(0.5, 1.0, 'MSE LOSS EPOCH')"
      ]
     },
     "execution_count": 29,
     "metadata": {},
     "output_type": "execute_result"
    },
    {
     "data": {
      "image/png": "[encoded data removed]",
      "text/plain": [
       "<Figure size 640x480 with 1 Axes>"
      ]
     },
     "metadata": {},
     "output_type": "display_data"
    }
   ],
   "source": [
    "plt.plot(mse_epoch[\"idk3\"],mse_epoch[\"idk2\"], color = \"magenta\")\n",
    "plt.grid(True)\n",
    "plt.xlabel(f'Steps')\n",
    "plt.title(\"MSE LOSS EPOCH\")"
   ]
  },
  {
   "cell_type": "code",
   "execution_count": null,
   "id": "f31fa432",
   "metadata": {},
   "outputs": [],
   "source": []
  }
 ],
 "metadata": {
  "kernelspec": {
   "display_name": ".venv",
   "language": "python",
   "name": "python3"
  },
  "language_info": {
   "codemirror_mode": {
    "name": "ipython",
    "version": 3
   },
   "file_extension": ".py",
   "mimetype": "text/x-python",
   "name": "python",
   "nbconvert_exporter": "python",
   "pygments_lexer": "ipython3",
   "version": "3.11.11"
  }
 },
 "nbformat": 4,
 "nbformat_minor": 5
}
