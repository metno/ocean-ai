{
 "cells": [
  {
   "cell_type": "code",
   "execution_count": null,
   "id": "05afc93a",
   "metadata": {},
   "outputs": [],
   "source": [
    "import xarray as xr\n"
   ]
  },
  {
   "cell_type": "code",
   "execution_count": 3,
   "id": "7cd51dba",
   "metadata": {},
   "outputs": [],
   "source": [
    "from anemoi.datasets import open_dataset"
   ]
  },
  {
   "cell_type": "code",
   "execution_count": 4,
   "id": "9952389f",
   "metadata": {},
   "outputs": [
    {
     "data": {
      "text/html": [
       "<div><svg style=\"position: absolute; width: 0; height: 0; overflow: hidden\">\n",
       "<defs>\n",
       "<symbol id=\"icon-database\" viewBox=\"0 0 32 32\">\n",
       "<path d=\"M16 0c-8.837 0-16 2.239-16 5v4c0 2.761 7.163 5 16 5s16-2.239 16-5v-4c0-2.761-7.163-5-16-5z\"></path>\n",
       "<path d=\"M16 17c-8.837 0-16-2.239-16-5v6c0 2.761 7.163 5 16 5s16-2.239 16-5v-6c0 2.761-7.163 5-16 5z\"></path>\n",
       "<path d=\"M16 26c-8.837 0-16-2.239-16-5v6c0 2.761 7.163 5 16 5s16-2.239 16-5v-6c0 2.761-7.163 5-16 5z\"></path>\n",
       "</symbol>\n",
       "<symbol id=\"icon-file-text2\" viewBox=\"0 0 32 32\">\n",
       "<path d=\"M28.681 7.159c-0.694-0.947-1.662-2.053-2.724-3.116s-2.169-2.030-3.116-2.724c-1.612-1.182-2.393-1.319-2.841-1.319h-15.5c-1.378 0-2.5 1.121-2.5 2.5v27c0 1.378 1.122 2.5 2.5 2.5h23c1.378 0 2.5-1.122 2.5-2.5v-19.5c0-0.448-0.137-1.23-1.319-2.841zM24.543 5.457c0.959 0.959 1.712 1.825 2.268 2.543h-4.811v-4.811c0.718 0.556 1.584 1.309 2.543 2.268zM28 29.5c0 0.271-0.229 0.5-0.5 0.5h-23c-0.271 0-0.5-0.229-0.5-0.5v-27c0-0.271 0.229-0.5 0.5-0.5 0 0 15.499-0 15.5 0v7c0 0.552 0.448 1 1 1h7v19.5z\"></path>\n",
       "<path d=\"M23 26h-14c-0.552 0-1-0.448-1-1s0.448-1 1-1h14c0.552 0 1 0.448 1 1s-0.448 1-1 1z\"></path>\n",
       "<path d=\"M23 22h-14c-0.552 0-1-0.448-1-1s0.448-1 1-1h14c0.552 0 1 0.448 1 1s-0.448 1-1 1z\"></path>\n",
       "<path d=\"M23 18h-14c-0.552 0-1-0.448-1-1s0.448-1 1-1h14c0.552 0 1 0.448 1 1s-0.448 1-1 1z\"></path>\n",
       "</symbol>\n",
       "</defs>\n",
       "</svg>\n",
       "<style>/* CSS stylesheet for displaying xarray objects in jupyterlab.\n",
       " *\n",
       " */\n",
       "\n",
       ":root {\n",
       "  --xr-font-color0: var(--jp-content-font-color0, rgba(0, 0, 0, 1));\n",
       "  --xr-font-color2: var(--jp-content-font-color2, rgba(0, 0, 0, 0.54));\n",
       "  --xr-font-color3: var(--jp-content-font-color3, rgba(0, 0, 0, 0.38));\n",
       "  --xr-border-color: var(--jp-border-color2, #e0e0e0);\n",
       "  --xr-disabled-color: var(--jp-layout-color3, #bdbdbd);\n",
       "  --xr-background-color: var(--jp-layout-color0, white);\n",
       "  --xr-background-color-row-even: var(--jp-layout-color1, white);\n",
       "  --xr-background-color-row-odd: var(--jp-layout-color2, #eeeeee);\n",
       "}\n",
       "\n",
       "html[theme=\"dark\"],\n",
       "html[data-theme=\"dark\"],\n",
       "body[data-theme=\"dark\"],\n",
       "body.vscode-dark {\n",
       "  --xr-font-color0: rgba(255, 255, 255, 1);\n",
       "  --xr-font-color2: rgba(255, 255, 255, 0.54);\n",
       "  --xr-font-color3: rgba(255, 255, 255, 0.38);\n",
       "  --xr-border-color: #1f1f1f;\n",
       "  --xr-disabled-color: #515151;\n",
       "  --xr-background-color: #111111;\n",
       "  --xr-background-color-row-even: #111111;\n",
       "  --xr-background-color-row-odd: #313131;\n",
       "}\n",
       "\n",
       ".xr-wrap {\n",
       "  display: block !important;\n",
       "  min-width: 300px;\n",
       "  max-width: 700px;\n",
       "}\n",
       "\n",
       ".xr-text-repr-fallback {\n",
       "  /* fallback to plain text repr when CSS is not injected (untrusted notebook) */\n",
       "  display: none;\n",
       "}\n",
       "\n",
       ".xr-header {\n",
       "  padding-top: 6px;\n",
       "  padding-bottom: 6px;\n",
       "  margin-bottom: 4px;\n",
       "  border-bottom: solid 1px var(--xr-border-color);\n",
       "}\n",
       "\n",
       ".xr-header > div,\n",
       ".xr-header > ul {\n",
       "  display: inline;\n",
       "  margin-top: 0;\n",
       "  margin-bottom: 0;\n",
       "}\n",
       "\n",
       ".xr-obj-type,\n",
       ".xr-array-name {\n",
       "  margin-left: 2px;\n",
       "  margin-right: 10px;\n",
       "}\n",
       "\n",
       ".xr-obj-type {\n",
       "  color: var(--xr-font-color2);\n",
       "}\n",
       "\n",
       ".xr-sections {\n",
       "  padding-left: 0 !important;\n",
       "  display: grid;\n",
       "  grid-template-columns: 150px auto auto 1fr 0 20px 0 20px;\n",
       "}\n",
       "\n",
       ".xr-section-item {\n",
       "  display: contents;\n",
       "}\n",
       "\n",
       ".xr-section-item input {\n",
       "  display: inline-block;\n",
       "  opacity: 0;\n",
       "  height: 0;\n",
       "}\n",
       "\n",
       ".xr-section-item input + label {\n",
       "  color: var(--xr-disabled-color);\n",
       "}\n",
       "\n",
       ".xr-section-item input:enabled + label {\n",
       "  cursor: pointer;\n",
       "  color: var(--xr-font-color2);\n",
       "}\n",
       "\n",
       ".xr-section-item input:focus + label {\n",
       "  border: 2px solid var(--xr-font-color0);\n",
       "}\n",
       "\n",
       ".xr-section-item input:enabled + label:hover {\n",
       "  color: var(--xr-font-color0);\n",
       "}\n",
       "\n",
       ".xr-section-summary {\n",
       "  grid-column: 1;\n",
       "  color: var(--xr-font-color2);\n",
       "  font-weight: 500;\n",
       "}\n",
       "\n",
       ".xr-section-summary > span {\n",
       "  display: inline-block;\n",
       "  padding-left: 0.5em;\n",
       "}\n",
       "\n",
       ".xr-section-summary-in:disabled + label {\n",
       "  color: var(--xr-font-color2);\n",
       "}\n",
       "\n",
       ".xr-section-summary-in + label:before {\n",
       "  display: inline-block;\n",
       "  content: \"►\";\n",
       "  font-size: 11px;\n",
       "  width: 15px;\n",
       "  text-align: center;\n",
       "}\n",
       "\n",
       ".xr-section-summary-in:disabled + label:before {\n",
       "  color: var(--xr-disabled-color);\n",
       "}\n",
       "\n",
       ".xr-section-summary-in:checked + label:before {\n",
       "  content: \"▼\";\n",
       "}\n",
       "\n",
       ".xr-section-summary-in:checked + label > span {\n",
       "  display: none;\n",
       "}\n",
       "\n",
       ".xr-section-summary,\n",
       ".xr-section-inline-details {\n",
       "  padding-top: 4px;\n",
       "  padding-bottom: 4px;\n",
       "}\n",
       "\n",
       ".xr-section-inline-details {\n",
       "  grid-column: 2 / -1;\n",
       "}\n",
       "\n",
       ".xr-section-details {\n",
       "  display: none;\n",
       "  grid-column: 1 / -1;\n",
       "  margin-bottom: 5px;\n",
       "}\n",
       "\n",
       ".xr-section-summary-in:checked ~ .xr-section-details {\n",
       "  display: contents;\n",
       "}\n",
       "\n",
       ".xr-array-wrap {\n",
       "  grid-column: 1 / -1;\n",
       "  display: grid;\n",
       "  grid-template-columns: 20px auto;\n",
       "}\n",
       "\n",
       ".xr-array-wrap > label {\n",
       "  grid-column: 1;\n",
       "  vertical-align: top;\n",
       "}\n",
       "\n",
       ".xr-preview {\n",
       "  color: var(--xr-font-color3);\n",
       "}\n",
       "\n",
       ".xr-array-preview,\n",
       ".xr-array-data {\n",
       "  padding: 0 5px !important;\n",
       "  grid-column: 2;\n",
       "}\n",
       "\n",
       ".xr-array-data,\n",
       ".xr-array-in:checked ~ .xr-array-preview {\n",
       "  display: none;\n",
       "}\n",
       "\n",
       ".xr-array-in:checked ~ .xr-array-data,\n",
       ".xr-array-preview {\n",
       "  display: inline-block;\n",
       "}\n",
       "\n",
       ".xr-dim-list {\n",
       "  display: inline-block !important;\n",
       "  list-style: none;\n",
       "  padding: 0 !important;\n",
       "  margin: 0;\n",
       "}\n",
       "\n",
       ".xr-dim-list li {\n",
       "  display: inline-block;\n",
       "  padding: 0;\n",
       "  margin: 0;\n",
       "}\n",
       "\n",
       ".xr-dim-list:before {\n",
       "  content: \"(\";\n",
       "}\n",
       "\n",
       ".xr-dim-list:after {\n",
       "  content: \")\";\n",
       "}\n",
       "\n",
       ".xr-dim-list li:not(:last-child):after {\n",
       "  content: \",\";\n",
       "  padding-right: 5px;\n",
       "}\n",
       "\n",
       ".xr-has-index {\n",
       "  font-weight: bold;\n",
       "}\n",
       "\n",
       ".xr-var-list,\n",
       ".xr-var-item {\n",
       "  display: contents;\n",
       "}\n",
       "\n",
       ".xr-var-item > div,\n",
       ".xr-var-item label,\n",
       ".xr-var-item > .xr-var-name span {\n",
       "  background-color: var(--xr-background-color-row-even);\n",
       "  margin-bottom: 0;\n",
       "}\n",
       "\n",
       ".xr-var-item > .xr-var-name:hover span {\n",
       "  padding-right: 5px;\n",
       "}\n",
       "\n",
       ".xr-var-list > li:nth-child(odd) > div,\n",
       ".xr-var-list > li:nth-child(odd) > label,\n",
       ".xr-var-list > li:nth-child(odd) > .xr-var-name span {\n",
       "  background-color: var(--xr-background-color-row-odd);\n",
       "}\n",
       "\n",
       ".xr-var-name {\n",
       "  grid-column: 1;\n",
       "}\n",
       "\n",
       ".xr-var-dims {\n",
       "  grid-column: 2;\n",
       "}\n",
       "\n",
       ".xr-var-dtype {\n",
       "  grid-column: 3;\n",
       "  text-align: right;\n",
       "  color: var(--xr-font-color2);\n",
       "}\n",
       "\n",
       ".xr-var-preview {\n",
       "  grid-column: 4;\n",
       "}\n",
       "\n",
       ".xr-index-preview {\n",
       "  grid-column: 2 / 5;\n",
       "  color: var(--xr-font-color2);\n",
       "}\n",
       "\n",
       ".xr-var-name,\n",
       ".xr-var-dims,\n",
       ".xr-var-dtype,\n",
       ".xr-preview,\n",
       ".xr-attrs dt {\n",
       "  white-space: nowrap;\n",
       "  overflow: hidden;\n",
       "  text-overflow: ellipsis;\n",
       "  padding-right: 10px;\n",
       "}\n",
       "\n",
       ".xr-var-name:hover,\n",
       ".xr-var-dims:hover,\n",
       ".xr-var-dtype:hover,\n",
       ".xr-attrs dt:hover {\n",
       "  overflow: visible;\n",
       "  width: auto;\n",
       "  z-index: 1;\n",
       "}\n",
       "\n",
       ".xr-var-attrs,\n",
       ".xr-var-data,\n",
       ".xr-index-data {\n",
       "  display: none;\n",
       "  background-color: var(--xr-background-color) !important;\n",
       "  padding-bottom: 5px !important;\n",
       "}\n",
       "\n",
       ".xr-var-attrs-in:checked ~ .xr-var-attrs,\n",
       ".xr-var-data-in:checked ~ .xr-var-data,\n",
       ".xr-index-data-in:checked ~ .xr-index-data {\n",
       "  display: block;\n",
       "}\n",
       "\n",
       ".xr-var-data > table {\n",
       "  float: right;\n",
       "}\n",
       "\n",
       ".xr-var-name span,\n",
       ".xr-var-data,\n",
       ".xr-index-name div,\n",
       ".xr-index-data,\n",
       ".xr-attrs {\n",
       "  padding-left: 25px !important;\n",
       "}\n",
       "\n",
       ".xr-attrs,\n",
       ".xr-var-attrs,\n",
       ".xr-var-data,\n",
       ".xr-index-data {\n",
       "  grid-column: 1 / -1;\n",
       "}\n",
       "\n",
       "dl.xr-attrs {\n",
       "  padding: 0;\n",
       "  margin: 0;\n",
       "  display: grid;\n",
       "  grid-template-columns: 125px auto;\n",
       "}\n",
       "\n",
       ".xr-attrs dt,\n",
       ".xr-attrs dd {\n",
       "  padding: 0;\n",
       "  margin: 0;\n",
       "  float: left;\n",
       "  padding-right: 10px;\n",
       "  width: auto;\n",
       "}\n",
       "\n",
       ".xr-attrs dt {\n",
       "  font-weight: normal;\n",
       "  grid-column: 1;\n",
       "}\n",
       "\n",
       ".xr-attrs dt:hover span {\n",
       "  display: inline-block;\n",
       "  background: var(--xr-background-color);\n",
       "  padding-right: 10px;\n",
       "}\n",
       "\n",
       ".xr-attrs dd {\n",
       "  grid-column: 2;\n",
       "  white-space: pre-wrap;\n",
       "  word-break: break-all;\n",
       "}\n",
       "\n",
       ".xr-icon-database,\n",
       ".xr-icon-file-text2,\n",
       ".xr-no-icon {\n",
       "  display: inline-block;\n",
       "  vertical-align: middle;\n",
       "  width: 1em;\n",
       "  height: 1.5em !important;\n",
       "  stroke-width: 0;\n",
       "  stroke: currentColor;\n",
       "  fill: currentColor;\n",
       "}\n",
       "</style><pre class='xr-text-repr-fallback'>&lt;xarray.DataArray &#x27;Y&#x27; (Y: 1148)&gt; Size: 9kB\n",
       "array([0.000e+00, 8.000e+02, 1.600e+03, ..., 9.160e+05, 9.168e+05, 9.176e+05],\n",
       "      shape=(1148,))\n",
       "Coordinates:\n",
       "    time     datetime64[ns] 8B 2013-01-01\n",
       "    s_rho    float64 8B -0.004904\n",
       "  * Y        (Y) float64 9kB 0.0 800.0 1.6e+03 ... 9.16e+05 9.168e+05 9.176e+05\n",
       "Attributes:\n",
       "    axis:           Y\n",
       "    standard_name:  projection_y_coordinate\n",
       "    units:          meter</pre><div class='xr-wrap' style='display:none'><div class='xr-header'><div class='xr-obj-type'>xarray.DataArray</div><div class='xr-array-name'>'Y'</div><ul class='xr-dim-list'><li><span class='xr-has-index'>Y</span>: 1148</li></ul></div><ul class='xr-sections'><li class='xr-section-item'><div class='xr-array-wrap'><input id='section-2c79fe07-54ba-41aa-9a18-e2cdc7a77ae0' class='xr-array-in' type='checkbox' checked><label for='section-2c79fe07-54ba-41aa-9a18-e2cdc7a77ae0' title='Show/hide data repr'><svg class='icon xr-icon-database'><use xlink:href='#icon-database'></use></svg></label><div class='xr-array-preview xr-preview'><span>0.0 800.0 1.6e+03 2.4e+03 ... 9.152e+05 9.16e+05 9.168e+05 9.176e+05</span></div><div class='xr-array-data'><pre>array([0.000e+00, 8.000e+02, 1.600e+03, ..., 9.160e+05, 9.168e+05, 9.176e+05],\n",
       "      shape=(1148,))</pre></div></div></li><li class='xr-section-item'><input id='section-764f80c2-1629-4720-9064-26950c3a6477' class='xr-section-summary-in' type='checkbox'  checked><label for='section-764f80c2-1629-4720-9064-26950c3a6477' class='xr-section-summary' >Coordinates: <span>(3)</span></label><div class='xr-section-inline-details'></div><div class='xr-section-details'><ul class='xr-var-list'><li class='xr-var-item'><div class='xr-var-name'><span>time</span></div><div class='xr-var-dims'>()</div><div class='xr-var-dtype'>datetime64[ns]</div><div class='xr-var-preview xr-preview'>2013-01-01</div><input id='attrs-74da1303-745e-404e-97ea-aea11ff79451' class='xr-var-attrs-in' type='checkbox' ><label for='attrs-74da1303-745e-404e-97ea-aea11ff79451' title='Show/Hide attributes'><svg class='icon xr-icon-file-text2'><use xlink:href='#icon-file-text2'></use></svg></label><input id='data-0eff7f8e-23e2-4422-a310-41240d6011b8' class='xr-var-data-in' type='checkbox'><label for='data-0eff7f8e-23e2-4422-a310-41240d6011b8' title='Show/Hide data repr'><svg class='icon xr-icon-database'><use xlink:href='#icon-database'></use></svg></label><div class='xr-var-attrs'><dl class='xr-attrs'><dt><span>long_name :</span></dt><dd>time since initialization</dd><dt><span>field :</span></dt><dd>time, scalar, series</dd><dt><span>axis :</span></dt><dd>T</dd><dt><span>standard_name :</span></dt><dd>time</dd></dl></div><div class='xr-var-data'><pre>array(&#x27;2013-01-01T00:00:00.000000000&#x27;, dtype=&#x27;datetime64[ns]&#x27;)</pre></div></li><li class='xr-var-item'><div class='xr-var-name'><span>s_rho</span></div><div class='xr-var-dims'>()</div><div class='xr-var-dtype'>float64</div><div class='xr-var-preview xr-preview'>-0.004904</div><input id='attrs-99864719-bdbb-4321-bcdc-144cd83828f2' class='xr-var-attrs-in' type='checkbox' ><label for='attrs-99864719-bdbb-4321-bcdc-144cd83828f2' title='Show/Hide attributes'><svg class='icon xr-icon-file-text2'><use xlink:href='#icon-file-text2'></use></svg></label><input id='data-4d278f6f-8b5d-4f21-9960-6e0983004396' class='xr-var-data-in' type='checkbox'><label for='data-4d278f6f-8b5d-4f21-9960-6e0983004396' title='Show/Hide data repr'><svg class='icon xr-icon-database'><use xlink:href='#icon-database'></use></svg></label><div class='xr-var-attrs'><dl class='xr-attrs'><dt><span>long_name :</span></dt><dd>S-coordinate at RHO-points</dd><dt><span>valid_min :</span></dt><dd>-1.0</dd><dt><span>valid_max :</span></dt><dd>0.0</dd><dt><span>positive :</span></dt><dd>up</dd><dt><span>standard_name :</span></dt><dd>ocean_s_coordinate_g2</dd><dt><span>formula_terms :</span></dt><dd>s: s_rho C: Cs_r eta: zeta depth: h depth_c: hc</dd><dt><span>field :</span></dt><dd>s_rho, scalar</dd><dt><span>units :</span></dt><dd>1</dd></dl></div><div class='xr-var-data'><pre>array(-0.00490385)</pre></div></li><li class='xr-var-item'><div class='xr-var-name'><span class='xr-has-index'>Y</span></div><div class='xr-var-dims'>(Y)</div><div class='xr-var-dtype'>float64</div><div class='xr-var-preview xr-preview'>0.0 800.0 ... 9.168e+05 9.176e+05</div><input id='attrs-1e601983-2088-4065-ad98-42f6f6e70b38' class='xr-var-attrs-in' type='checkbox' ><label for='attrs-1e601983-2088-4065-ad98-42f6f6e70b38' title='Show/Hide attributes'><svg class='icon xr-icon-file-text2'><use xlink:href='#icon-file-text2'></use></svg></label><input id='data-c2e0fe46-af1f-4372-89b5-fa4f4f56c024' class='xr-var-data-in' type='checkbox'><label for='data-c2e0fe46-af1f-4372-89b5-fa4f4f56c024' title='Show/Hide data repr'><svg class='icon xr-icon-database'><use xlink:href='#icon-database'></use></svg></label><div class='xr-var-attrs'><dl class='xr-attrs'><dt><span>axis :</span></dt><dd>Y</dd><dt><span>standard_name :</span></dt><dd>projection_y_coordinate</dd><dt><span>units :</span></dt><dd>meter</dd></dl></div><div class='xr-var-data'><pre>array([0.000e+00, 8.000e+02, 1.600e+03, ..., 9.160e+05, 9.168e+05, 9.176e+05],\n",
       "      shape=(1148,))</pre></div></li></ul></div></li><li class='xr-section-item'><input id='section-1d8959a0-b033-49a8-a15d-74e9a1c733fe' class='xr-section-summary-in' type='checkbox'  ><label for='section-1d8959a0-b033-49a8-a15d-74e9a1c733fe' class='xr-section-summary' >Indexes: <span>(1)</span></label><div class='xr-section-inline-details'></div><div class='xr-section-details'><ul class='xr-var-list'><li class='xr-var-item'><div class='xr-index-name'><div>Y</div></div><div class='xr-index-preview'>PandasIndex</div><input type='checkbox' disabled/><label></label><input id='index-b545939f-3e40-453e-acf2-4650e5c18c90' class='xr-index-data-in' type='checkbox'/><label for='index-b545939f-3e40-453e-acf2-4650e5c18c90' title='Show/Hide index repr'><svg class='icon xr-icon-database'><use xlink:href='#icon-database'></use></svg></label><div class='xr-index-data'><pre>PandasIndex(Index([     0.0,    800.0,   1600.0,   2400.0,   3200.0,   4000.0,   4800.0,\n",
       "         5600.0,   6400.0,   7200.0,\n",
       "       ...\n",
       "       910400.0, 911200.0, 912000.0, 912800.0, 913600.0, 914400.0, 915200.0,\n",
       "       916000.0, 916800.0, 917600.0],\n",
       "      dtype=&#x27;float64&#x27;, name=&#x27;Y&#x27;, length=1148))</pre></div></li></ul></div></li><li class='xr-section-item'><input id='section-54f5d178-d7e5-428e-a59e-8163c681eeec' class='xr-section-summary-in' type='checkbox'  checked><label for='section-54f5d178-d7e5-428e-a59e-8163c681eeec' class='xr-section-summary' >Attributes: <span>(3)</span></label><div class='xr-section-inline-details'></div><div class='xr-section-details'><dl class='xr-attrs'><dt><span>axis :</span></dt><dd>Y</dd><dt><span>standard_name :</span></dt><dd>projection_y_coordinate</dd><dt><span>units :</span></dt><dd>meter</dd></dl></div></li></ul></div></div>"
      ],
      "text/plain": [
       "<xarray.DataArray 'Y' (Y: 1148)> Size: 9kB\n",
       "array([0.000e+00, 8.000e+02, 1.600e+03, ..., 9.160e+05, 9.168e+05, 9.176e+05],\n",
       "      shape=(1148,))\n",
       "Coordinates:\n",
       "    time     datetime64[ns] 8B 2013-01-01\n",
       "    s_rho    float64 8B -0.004904\n",
       "  * Y        (Y) float64 9kB 0.0 800.0 1.6e+03 ... 9.16e+05 9.168e+05 9.176e+05\n",
       "Attributes:\n",
       "    axis:           Y\n",
       "    standard_name:  projection_y_coordinate\n",
       "    units:          meter"
      ]
     },
     "execution_count": 4,
     "metadata": {},
     "output_type": "execute_result"
    }
   ],
   "source": [
    "file = f'/lustre/storeB/project/fou/hi/foccus/datasets/symlinks/norkystv3-hindcast/2013/norkyst800-20130101.nc'\n",
    "ds_fasit = xr.open_dataset(file).isel(s_rho = -1, time = 0 )\n",
    "ds_fasit.Y"
   ]
  },
  {
   "cell_type": "code",
   "execution_count": 5,
   "id": "504e5193",
   "metadata": {},
   "outputs": [
    {
     "data": {
      "text/plain": [
       "array([[  nan,   nan,   nan, ..., -0.87, -0.87, -0.87],\n",
       "       [  nan,   nan,   nan, ..., -0.87, -0.87, -0.87],\n",
       "       [  nan,   nan,   nan, ..., -0.87, -0.87, -0.87],\n",
       "       ...,\n",
       "       [  nan,   nan,   nan, ...,  0.02,  0.02,  0.02],\n",
       "       [  nan,   nan,   nan, ...,  0.02,  0.02,  0.02],\n",
       "       [  nan,   nan,   nan, ...,  0.02,  0.02,  0.02]],\n",
       "      shape=(1148, 2747), dtype=float32)"
      ]
     },
     "execution_count": 5,
     "metadata": {},
     "output_type": "execute_result"
    }
   ],
   "source": [
    "#zeta for different points, first I try X = 360 and Y = 760\n",
    "ds_fasit.zeta.values"
   ]
  },
  {
   "cell_type": "code",
   "execution_count": 125,
   "id": "b07998f6",
   "metadata": {},
   "outputs": [],
   "source": [
    "file_zarr = f\"/lustre/storeB/project/fou/hi/foccus/datasets/norkystv3_hindcast_2013_surface.zarr\"\n",
    "ds_zarr = open_dataset(file_zarr, select = \"zeta\", start = '2013-01-01T00:00:00', end = '2013-01-01T00:00:00')"
   ]
  },
  {
   "cell_type": "code",
   "execution_count": 105,
   "id": "e2d70a48",
   "metadata": {},
   "outputs": [],
   "source": [
    "import numpy as np"
   ]
  },
  {
   "cell_type": "code",
   "execution_count": null,
   "id": "fa2f842f",
   "metadata": {},
   "outputs": [
    {
     "data": {
      "text/plain": [
       "{'mean': array([-0.12241766]),\n",
       " 'stdev': array([0.46485961]),\n",
       " 'maximum': array([2.73000002]),\n",
       " 'minimum': array([-3.30999994])}"
      ]
     },
     "execution_count": 98,
     "metadata": {},
     "output_type": "execute_result"
    }
   ],
   "source": [
    "ds_zarr.statistics"
   ]
  },
  {
   "cell_type": "code",
   "execution_count": null,
   "id": "c9ec574d",
   "metadata": {},
   "outputs": [
    {
     "data": {
      "text/plain": [
       "(3153556,)"
      ]
     },
     "execution_count": 101,
     "metadata": {},
     "output_type": "execute_result"
    }
   ],
   "source": [
    "#Trying to convert the dataarray from xr to np to flatten it so it can be used together with the zarr files. \n",
    "import matplotlib.pyplot as plt\n",
    "ds_fasit_1d = ds_fasit[\"zeta\"].values.flatten()\n",
    "ds_fasit_1d.shape\n"
   ]
  },
  {
   "cell_type": "code",
   "execution_count": null,
   "id": "68ea7f1c",
   "metadata": {},
   "outputs": [
    {
     "data": {
      "text/plain": [
       "(2, 1, 1, 3153556)"
      ]
     },
     "execution_count": 102,
     "metadata": {},
     "output_type": "execute_result"
    }
   ],
   "source": [
    "ds_zarr.shape"
   ]
  },
  {
   "cell_type": "code",
   "execution_count": null,
   "id": "755cf25d",
   "metadata": {},
   "outputs": [
    {
     "data": {
      "text/plain": [
       "FrozenMappingWarningOnValuesAccess({'Y': 1148, 'X': 2747, 's_w': 41})"
      ]
     },
     "execution_count": 103,
     "metadata": {},
     "output_type": "execute_result"
    }
   ],
   "source": [
    "ds_fasit.dims"
   ]
  },
  {
   "cell_type": "code",
   "execution_count": 111,
   "id": "f565ea7d",
   "metadata": {},
   "outputs": [
    {
     "data": {
      "text/plain": [
       "(1, 1, 1, 3153556)"
      ]
     },
     "execution_count": 111,
     "metadata": {},
     "output_type": "execute_result"
    }
   ],
   "source": [
    "ds_zarr.shape"
   ]
  },
  {
   "cell_type": "code",
   "execution_count": null,
   "id": "4e475d5b",
   "metadata": {},
   "outputs": [
    {
     "name": "stdout",
     "output_type": "stream",
     "text": [
      "the values are the same for the zarr and the norkyst model\n"
     ]
    }
   ],
   "source": [
    "#the shapes are now similiar\n",
    "#I am therefore calculating the difference between the datasets and checking wether they are the same or not\n",
    "diff = ds_fasit_1d - ds_zarr\n",
    "replace_nan = np.where(np.isnan(diff), 0, diff)\n",
    "if np.any(replace_nan != 0):\n",
    "    print(\"not the same zeta values between the norkyst and zarr model\")\n",
    "else:\n",
    "    print(\"the values are the same for the zarr and the norkyst model\")"
   ]
  },
  {
   "cell_type": "code",
   "execution_count": 138,
   "id": "e2fc425f",
   "metadata": {},
   "outputs": [],
   "source": [
    "#np.set_printoptions(threshold=np.inf)\n",
    "#double check manually that values actually are the same"
   ]
  },
  {
   "cell_type": "code",
   "execution_count": 129,
   "id": "609d2070",
   "metadata": {},
   "outputs": [],
   "source": [
    "#checking for an another time as well\n",
    "ds_fasit_2023 = xr.open_dataset(\"/lustre/storeB/project/fou/hi/foccus/datasets/symlinks/norkystv3-hindcast/2023/norkyst800-20230101.nc\").isel(s_rho = -1, time = 0)\n",
    "ds_zarr_2023 = open_dataset(\"/lustre/storeB/project/fou/hi/foccus/datasets/norkystv3_hindcast_2023_surface.zarr\", select = \"zeta\", start = '2013-01-01T00:00:00', end = '2013-01-01T00:00:00')"
   ]
  },
  {
   "cell_type": "code",
   "execution_count": 134,
   "id": "1b1f2070",
   "metadata": {},
   "outputs": [
    {
     "data": {
      "text/plain": [
       "(3153556,)"
      ]
     },
     "execution_count": 134,
     "metadata": {},
     "output_type": "execute_result"
    }
   ],
   "source": [
    "#flattening the norkyst model\n",
    "ds_fasit_2023_1d = ds_fasit_2023[\"zeta\"].values.flatten()\n",
    "ds_fasit_2023_1d.shape"
   ]
  },
  {
   "cell_type": "code",
   "execution_count": 132,
   "id": "e6355b85",
   "metadata": {},
   "outputs": [
    {
     "data": {
      "text/plain": [
       "(1, 1, 1, 3153556)"
      ]
     },
     "execution_count": 132,
     "metadata": {},
     "output_type": "execute_result"
    }
   ],
   "source": [
    "ds_zarr_2023.shape"
   ]
  },
  {
   "cell_type": "code",
   "execution_count": 137,
   "id": "f984b2fa",
   "metadata": {},
   "outputs": [
    {
     "name": "stdout",
     "output_type": "stream",
     "text": [
      "the values are the same for the zarr and the norkyst model\n"
     ]
    }
   ],
   "source": [
    "diff_2023 = ds_fasit_2023_1d - ds_zarr_2023\n",
    "replace_nan_2023 = np.where(np.isnan(diff_2023), 0, diff_2023)\n",
    "if np.any(replace_nan != 0):\n",
    "    print(\"not the same zeta values between the norkyst and zarr model\")\n",
    "else:\n",
    "    print(\"the values are the same for the zarr and the norkyst model\")\n"
   ]
  },
  {
   "cell_type": "code",
   "execution_count": 117,
   "id": "4a7e5f31",
   "metadata": {},
   "outputs": [],
   "source": [
    "#DISCOVER ANEMOI DATASETS LEARNING:\n"
   ]
  },
  {
   "cell_type": "code",
   "execution_count": 110,
   "id": "051f8747",
   "metadata": {},
   "outputs": [
    {
     "data": {
      "text/plain": [
       "(1148, 2747)"
      ]
     },
     "execution_count": 110,
     "metadata": {},
     "output_type": "execute_result"
    }
   ],
   "source": [
    "#The dimension of the dataset\n",
    "ds_zarr.field_shape"
   ]
  },
  {
   "cell_type": "code",
   "execution_count": 38,
   "id": "b8637ba1",
   "metadata": {},
   "outputs": [
    {
     "name": "stdout",
     "output_type": "stream",
     "text": [
      "0\n"
     ]
    }
   ],
   "source": [
    "#finding the belonging index of a variable\n",
    "index = ds_zarr.name_to_index[\"zeta\"]\n",
    "print(index)"
   ]
  },
  {
   "cell_type": "code",
   "execution_count": 47,
   "id": "1e718b85",
   "metadata": {},
   "outputs": [
    {
     "name": "stdout",
     "output_type": "stream",
     "text": [
      "-0.12241766349692108 0.4648596113508162\n"
     ]
    }
   ],
   "source": [
    "#checking the statistics for a selected variable\n",
    "stats = ds_zarr.statistics\n",
    "stats[\"mean\"]\n",
    "stats[\"maximum\"]\n",
    "stats[\"minimum\"]\n",
    "stats[\"stdev\"]\n",
    "\n",
    "print(stats[\"mean\"][index], stats[\"stdev\"][index])"
   ]
  },
  {
   "cell_type": "markdown",
   "id": "78f652d1",
   "metadata": {},
   "source": [
    "repeat for other variables as well"
   ]
  },
  {
   "cell_type": "markdown",
   "id": "27a84c31",
   "metadata": {},
   "source": []
  }
 ],
 "metadata": {
  "kernelspec": {
   "display_name": ".venv",
   "language": "python",
   "name": "python3"
  },
  "language_info": {
   "codemirror_mode": {
    "name": "ipython",
    "version": 3
   },
   "file_extension": ".py",
   "mimetype": "text/x-python",
   "name": "python",
   "nbconvert_exporter": "python",
   "pygments_lexer": "ipython3",
   "version": "3.11.11"
  }
 },
 "nbformat": 4,
 "nbformat_minor": 5
}
