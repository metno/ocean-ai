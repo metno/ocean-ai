{
 "cells": [
  {
   "cell_type": "markdown",
   "metadata": {},
   "source": [
    "# Plot infer results\n",
    "\n",
    "NOTE: this notebook is obsolete since the bris-inference package now outputs 2D arrays. But some code might be useful or adapt notebook. "
   ]
  },
  {
   "cell_type": "code",
   "execution_count": null,
   "metadata": {},
   "outputs": [],
   "source": [
    "%matplotlib ipympl\n",
    "%load_ext autoreload\n",
    "%autoreload 2"
   ]
  },
  {
   "cell_type": "code",
   "execution_count": null,
   "metadata": {},
   "outputs": [],
   "source": [
    "import xarray as xr\n",
    "import matplotlib.pyplot as plt\n",
    "import numpy as np\n",
    "import matplotlib.animation as animation\n",
    "import sys\n",
    "sys.path.append('../')\n",
    "from utils import mesh, interpolate, subset_variable, update_anim, simple_mesh_plot"
   ]
  },
  {
   "cell_type": "markdown",
   "metadata": {},
   "source": [
    "### Open the (netcdf) dataset using xarray"
   ]
  },
  {
   "cell_type": "code",
   "execution_count": null,
   "metadata": {},
   "outputs": [],
   "source": [
    "dir = '/lustre/storeB/project/fou/hi/foccus/experiments/graph_resolution/'\n",
    "#dir = '/lustre/storeB/project/fou/hi/foccus/experiments/temp-jan/'\n",
    "#file = dir + '62677636-infer.nc'\n",
    "#file = dir + '62677636-infer.nc'\n",
    "file = dir + '5/infer-test-5res.nc'\n",
    "ds = xr.open_dataset(file)"
   ]
  },
  {
   "cell_type": "markdown",
   "metadata": {},
   "source": [
    "Select the variable and number of time steps"
   ]
  },
  {
   "cell_type": "code",
   "execution_count": null,
   "metadata": {},
   "outputs": [],
   "source": [
    "ntime = 2\n",
    "var_name = 'temperature_1'\n",
    "var_norway = ds[var_name]\n",
    "\n",
    "longitude = ds.longitude\n",
    "latitude = ds.latitude"
   ]
  },
  {
   "cell_type": "code",
   "execution_count": null,
   "metadata": {},
   "outputs": [],
   "source": [
    "var_norway.shape"
   ]
  },
  {
   "cell_type": "markdown",
   "metadata": {},
   "source": [
    "### Get a subset of the dataset \n",
    "Default: Lofoten & Vesterålen, Northern Norway"
   ]
  },
  {
   "cell_type": "code",
   "execution_count": null,
   "metadata": {},
   "outputs": [],
   "source": [
    "lon_min, lon_max = 11.83083, 15.59072\n",
    "lat_min, lat_max = 67.41791, 69.20699\n",
    "\n",
    "var, lat, lon = subset_variable(var_norway,latitude,longitude,lat_min,lat_max,lon_min,lon_max)\n",
    "#del var_norway, longitude, latitude\n",
    "\n",
    "# if want to plot all of Norway\n",
    "#var = var_norway\n",
    "#lat = latitude\n",
    "#lon = longitude"
   ]
  },
  {
   "cell_type": "code",
   "execution_count": null,
   "metadata": {},
   "outputs": [],
   "source": [
    "from utils import plot_landmask"
   ]
  },
  {
   "cell_type": "code",
   "execution_count": null,
   "metadata": {},
   "outputs": [],
   "source": [
    "fig0, ax0 = plt.subplots(figsize=(8, 6))\n",
    "ax0.scatter(lon,lat,c=var[0])\n",
    "plot_landmask(ax0)\n"
   ]
  },
  {
   "cell_type": "markdown",
   "metadata": {},
   "source": [
    "The inference results are given as 1D arrays in the .nc-file. We use meshgrid and an interpolation to map the data back to 2D arrays. \n",
    "\n",
    "Note: Resolution of the grid needs to be set. If it is too small the plotting/animation will be very slow. But you want to see small features too. Find a middle ground."
   ]
  },
  {
   "cell_type": "code",
   "execution_count": null,
   "metadata": {},
   "outputs": [],
   "source": [
    "resolution=0.05 # TODO try smaller than 0.25, this is same as MEPS I think?\n",
    "lat_grid, lon_grid = mesh(lat, lon, resolution)\n",
    "# TODO: no need to call mesh here an also inside interpolate...\n",
    "\n",
    "var_interp = np.empty([ntime,lat_grid.shape[0],lat_grid.shape[1]])\n",
    "for itime in range(ntime):\n",
    "    var_interp[itime] = interpolate(var[itime], lat, lon, resolution)"
   ]
  },
  {
   "cell_type": "markdown",
   "metadata": {},
   "source": [
    "NOTE: the interpolate function used below somehow gets values over land..."
   ]
  },
  {
   "cell_type": "code",
   "execution_count": null,
   "metadata": {},
   "outputs": [],
   "source": [
    "time_steps = ds.time.values\n",
    "vmin = int(var_interp.min() - 0.5)\n",
    "vmax = int(var_interp.max() + 0.5)\n",
    "# Initialize the plot at t=0\n",
    "fig, ax1, heatmap = simple_mesh_plot(var_interp[0],lat_grid,lon_grid,time_steps[0],\n",
    "                                     var_name,vmin,vmax)\n",
    "\n",
    "# Start the animation:\n",
    "# set interval=500 for a slower anim, 200 or 100 for faster\n",
    "ani = animation.FuncAnimation(fig, update_anim, frames=ntime, interval=100,fargs=(ax1, heatmap, var_interp, time_steps))"
   ]
  },
  {
   "cell_type": "markdown",
   "metadata": {},
   "source": [
    "Save the animation as a GIF (optional)\n",
    "\n",
    "**NOTE:** only possible if the imagemagick package is installed already"
   ]
  },
  {
   "cell_type": "code",
   "execution_count": null,
   "metadata": {},
   "outputs": [],
   "source": [
    "#ani.save('zarr_animation.gif', writer='imagemagick')"
   ]
  },
  {
   "cell_type": "markdown",
   "metadata": {},
   "source": [
    "## Investigating the dataset\n",
    "\n",
    "# Do we have values over land? Or is the interpolation method failing?"
   ]
  },
  {
   "cell_type": "code",
   "execution_count": null,
   "metadata": {},
   "outputs": [],
   "source": [
    "#var_norway = ds[var_name]\n",
    "#longitude = ds.longitude\n",
    "#latitude = ds.latitude\n",
    "var_norway"
   ]
  },
  {
   "cell_type": "code",
   "execution_count": null,
   "metadata": {},
   "outputs": [],
   "source": [
    "var_norway.values.min()"
   ]
  },
  {
   "cell_type": "code",
   "execution_count": null,
   "metadata": {},
   "outputs": [],
   "source": []
  }
 ],
 "metadata": {
  "kernelspec": {
   "display_name": "torch",
   "language": "python",
   "name": "python3"
  },
  "language_info": {
   "codemirror_mode": {
    "name": "ipython",
    "version": 3
   },
   "file_extension": ".py",
   "mimetype": "text/x-python",
   "name": "python",
   "nbconvert_exporter": "python",
   "pygments_lexer": "ipython3",
   "version": "3.10.18"
  }
 },
 "nbformat": 4,
 "nbformat_minor": 2
}
