{
 "cells": [
  {
   "cell_type": "code",
   "execution_count": null,
   "id": "4edcdc28",
   "metadata": {},
   "outputs": [],
   "source": [
    "#import necessary datasets  \n",
    "import xarray as xr\n",
    "from anemoi.datasets import open_dataset\n",
    "import matplotlib.pyplot as plt\n",
    "import numpy as np\n"
   ]
  },
  {
   "cell_type": "code",
   "execution_count": null,
   "id": "bbfd00ab",
   "metadata": {},
   "outputs": [],
   "source": [
    "#%matplotlib ipympl #enables interactive features\n",
    "#%load_ext autoreload #reload the modules before execution of the user code. Saves time\n",
    "#%autoreload 2 #reloading the modules before execution   "
   ]
  },
  {
   "cell_type": "code",
   "execution_count": null,
   "id": "40796fbf",
   "metadata": {},
   "outputs": [],
   "source": [
    "import cartopy\n",
    "import cmocean\n",
    "import cartopy.crs as ccrs"
   ]
  },
  {
   "cell_type": "code",
   "execution_count": null,
   "id": "261f9eb4",
   "metadata": {},
   "outputs": [],
   "source": [
    "file_name = f'/lustre/storeB/project/fou/hi/foccus/datasets/norkystv3_hindcast_2013_surface.zarr'\n",
    "ds = open_dataset(file_name, select = \"temperature_0\")"
   ]
  },
  {
   "cell_type": "code",
   "execution_count": null,
   "id": "338035c2",
   "metadata": {},
   "outputs": [],
   "source": [
    "year = 2013\n",
    "path_nk = f'/lustre/storeB/project/fou/hi/foccus/datasets/symlinks/norkystv3-hindcast/{year}/'\n",
    "file_nk = f'norkyst800-{year}0101.nc'\n",
    "nk = xr.open_dataset(path_nk+file_nk)"
   ]
  },
  {
   "cell_type": "code",
   "execution_count": null,
   "id": "18519517",
   "metadata": {},
   "outputs": [],
   "source": [
    "ds"
   ]
  },
  {
   "cell_type": "markdown",
   "id": "44e683be",
   "metadata": {},
   "source": [
    "Info about the zarr datset from terminal: \n",
    "The variables used in the zarr dataset is:\n",
    "\n",
    "1. Uwind_eastward\n",
    "2. Vwind_northward\n",
    "3. h \n",
    "4. salinity_0\n",
    "5. sea_mask\n",
    "6. temperature_0\n",
    "7. u_eastward_0\n",
    "8. ubar_eastward\n",
    "9. v_northward_0\n",
    "10. vbar_northward\n",
    "11. zeta\n",
    "\n",
    "Frequency is 1hr and the date is 01.01.2013 00:00 - 31.12.2013 23:00\n"
   ]
  },
  {
   "cell_type": "code",
   "execution_count": null,
   "id": "aace9dd3",
   "metadata": {},
   "outputs": [],
   "source": [
    "#Understanding the code by Matheusz \n",
    "\"\"\"\n",
    "#Defining subplots and the projection type we want. To see more projection types, access: https://scitools.org.uk/cartopy/docs/v0.15/crs/projections.html. \n",
    "fig, ax = plt.subplots(figsize = (10,15), subplot_kw={\"projection\": ccrs.NorthPolarStereo()})\n",
    "im = ax.scatter(nk.lon, nk.lat, c = nk.temperature.isel(time=0, s_rho = -1), s = 2, vmin = 2, vmax = 10, cmap=cmocean.cm.haline, transform = ccrs.PlateCarree()) \n",
    "#s is the marker size, cmocean colorbars are found at: https://matplotlib.org/cmocean/\n",
    "#Transform to the right map projection?? \n",
    "ax.add_feature(cartopy.feature.LAND, zorder = 1, edgecolor = \"black\") #adding land features to the plot\n",
    "cax = fig.add_axes([ax.get_position().x1+0.25, ax.get_position().y0, 0.025, ax.get_position().height]) #placing the colorbar\n",
    "cbar = fig.colorbar(im, ax=ax, cax = cax, extend = \"both\")\n",
    "cbar.ax.set_title(\"Temp\", fontsize = 14)\n",
    "#not sure why the colorbar wont show\n",
    "\"\"\""
   ]
  },
  {
   "cell_type": "code",
   "execution_count": null,
   "id": "6db070b6",
   "metadata": {},
   "outputs": [],
   "source": [
    "#now for the zarr files for 2013\n",
    "\"\"\"\n",
    "for i in [0,4,8,12,24,28,32,36]: #tid blir lik i her\n",
    "    fig,ax = plt.subplots(figsize = (10,15), subplot_kw={\"projection\": ccrs.NorthPolarStereo()})\n",
    "    im = ax.scatter(ds.longitudes, ds.latitudes, c = ds[i,0,0,:], s=2, vmin = 2, vmax = 10, cmap = cmocean.cm.haline, transform = ccrs.PlateCarree())\n",
    "    ax.add_feature(cartopy.feature.LAND, zorder = 1, edgecolor = \"black\")\n",
    "    cax = fig.add_axes([ax.get_position().x1+0.025, ax.get_position().y0, 0.025, ax.get_position().height])\n",
    "    cbar = fig.colorbar(im, ax=ax, cax=cax, extend = \"both\")\n",
    "    cbar.ax.set_title(\"Temp\", fontsize = 14)\n",
    "    ax.set_title(f'+ {i}h from {year} - 01.01T000:00:00')\n",
    "\"\"\""
   ]
  },
  {
   "cell_type": "code",
   "execution_count": null,
   "id": "0ecdb6d3",
   "metadata": {},
   "outputs": [],
   "source": [
    "file2 = f'/lustre/storeB/project/fou/hi/foccus/datasets/norkystv3_hindcast_2024_surface.zarr'\n",
    "ds_2024 = open_dataset(file2, select = \"temperature_0\")"
   ]
  },
  {
   "cell_type": "code",
   "execution_count": null,
   "id": "0d4da6a6",
   "metadata": {},
   "outputs": [],
   "source": [
    "#lager om til en funksjon for videre bruk\n",
    "def temp(ds_file, year, time_indx):\n",
    "    fig,ax = plt.subplots(figsize = (8,10), subplot_kw={\"projection\": ccrs.NorthPolarStereo()})\n",
    "    im = ax.scatter(ds_file.longitudes, ds_file.latitudes, c = ds_file[time_indx,0,0,:], s=2, vmin = 2, vmax = 10, cmap = cmocean.cm.thermal, transform = ccrs.PlateCarree())\n",
    "    ax.add_feature(cartopy.feature.LAND, zorder = 1, edgecolor = \"black\")\n",
    "    cax = fig.add_axes([ax.get_position().x1+0.025, ax.get_position().y0, 0.025, ax.get_position().height])\n",
    "    cbar = fig.colorbar(im, ax=ax, cax=cax, extend = \"both\")\n",
    "    cbar.ax.set_title(\"Temp\", fontsize = 14)\n",
    "    ax.set_title(f'+ {time_indx}h from {year} - 01.01T000:00:00')\n",
    "    plt.show()\n",
    "\n",
    "for time_indx in [0,8,24,32,42]:\n",
    "    temp(ds_file=ds_2024,year=2024, time_indx=time_indx)\n"
   ]
  },
  {
   "cell_type": "code",
   "execution_count": null,
   "id": "b527c19f",
   "metadata": {},
   "outputs": [],
   "source": [
    "for time_indx in [0,8,24,32,42]:\n",
    "    temp(ds_file=ds,year=2013, time_indx=time_indx)"
   ]
  },
  {
   "cell_type": "code",
   "execution_count": null,
   "id": "b965b54e",
   "metadata": {},
   "outputs": [],
   "source": [
    "def salinity(ds_file, year, time_indx):\n",
    "    fig,ax = plt.subplots(figsize = (8,10), subplot_kw={\"projection\": ccrs.NorthPolarStereo()})\n",
    "    im = ax.scatter(ds_file.longitudes, ds_file.latitudes, c = ds_file[time_indx,0,0,:], s=2, vmin = 30, cmap = cmocean.cm.haline, transform = ccrs.PlateCarree())\n",
    "    ax.add_feature(cartopy.feature.LAND, zorder = 1, edgecolor = \"black\")\n",
    "    cax = fig.add_axes([ax.get_position().x1+0.025, ax.get_position().y0, 0.025, ax.get_position().height])\n",
    "    cbar = fig.colorbar(im, ax=ax, cax=cax, extend = \"both\")\n",
    "    cbar.ax.set_title(\"Salinity\", fontsize = 14)\n",
    "    ax.set_title(f'+ {time_indx}h from {year} - 01.01T000:00:00')\n",
    "    plt.show()"
   ]
  },
  {
   "cell_type": "code",
   "execution_count": null,
   "id": "2addddb5",
   "metadata": {},
   "outputs": [],
   "source": [
    "ds_sal_2013 = open_dataset(file_name, select = \"salinity_0\")\n",
    "ds_sal_2024 = open_dataset(file2, select = \"salinity_0\")"
   ]
  },
  {
   "cell_type": "code",
   "execution_count": null,
   "id": "3746e839",
   "metadata": {},
   "outputs": [],
   "source": [
    "for time_indx in [0,8,24,32,42]:\n",
    "    salinity(ds_sal_2013, year=2013, time_indx=time_indx)"
   ]
  },
  {
   "cell_type": "code",
   "execution_count": null,
   "id": "07710252",
   "metadata": {},
   "outputs": [],
   "source": [
    "for time_indx in [0,8,24,32,42]:\n",
    "    salinity(ds_file=ds_sal_2024, year=2024, time_indx=time_indx)"
   ]
  },
  {
   "cell_type": "code",
   "execution_count": null,
   "id": "d84781a7",
   "metadata": {},
   "outputs": [],
   "source": []
  }
 ],
 "metadata": {
  "kernelspec": {
   "display_name": ".venv",
   "language": "python",
   "name": "python3"
  },
  "language_info": {
   "codemirror_mode": {
    "name": "ipython",
    "version": 3
   },
   "file_extension": ".py",
   "mimetype": "text/x-python",
   "name": "python",
   "nbconvert_exporter": "python",
   "pygments_lexer": "ipython3",
   "version": "3.11.11"
  }
 },
 "nbformat": 4,
 "nbformat_minor": 5
}
