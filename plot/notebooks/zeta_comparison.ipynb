{
 "cells": [
  {
   "cell_type": "code",
   "execution_count": null,
   "id": "05afc93a",
   "metadata": {},
   "outputs": [],
   "source": [
    "import xarray as xr\n"
   ]
  },
  {
   "cell_type": "markdown",
   "id": "c5184da4",
   "metadata": {},
   "source": [
    "Code to ensure that the zeta values are the same in the zarr and netcdf files. \n",
    "The values seem to be the same for both 2013 and 2023 files. "
   ]
  },
  {
   "cell_type": "code",
   "execution_count": null,
   "id": "7cd51dba",
   "metadata": {},
   "outputs": [],
   "source": [
    "from anemoi.datasets import open_dataset"
   ]
  },
  {
   "cell_type": "code",
   "execution_count": null,
   "id": "9952389f",
   "metadata": {},
   "outputs": [],
   "source": [
    "file = f'/lustre/storeB/project/fou/hi/foccus/datasets/symlinks/norkystv3-hindcast/2013/norkyst800-20130101.nc'\n",
    "ds_fasit = xr.open_dataset(file).isel(s_rho = -1, time = 0 )\n",
    "ds_fasit.Y"
   ]
  },
  {
   "cell_type": "code",
   "execution_count": null,
   "id": "504e5193",
   "metadata": {},
   "outputs": [],
   "source": [
    "#zeta for different points, first I try X = 360 and Y = 760\n",
    "ds_fasit.zeta.values"
   ]
  },
  {
   "cell_type": "code",
   "execution_count": null,
   "id": "b07998f6",
   "metadata": {},
   "outputs": [],
   "source": [
    "file_zarr = f\"/lustre/storeB/project/fou/hi/foccus/datasets/norkystv3_hindcast_2013_surface.zarr\"\n",
    "ds_zarr = open_dataset(file_zarr, select = \"zeta\", start = '2013-01-01T00:00:00', end = '2013-01-01T00:00:00')"
   ]
  },
  {
   "cell_type": "code",
   "execution_count": null,
   "id": "e2d70a48",
   "metadata": {},
   "outputs": [],
   "source": [
    "import numpy as np"
   ]
  },
  {
   "cell_type": "code",
   "execution_count": null,
   "id": "fa2f842f",
   "metadata": {},
   "outputs": [],
   "source": [
    "ds_zarr.statistics"
   ]
  },
  {
   "cell_type": "code",
   "execution_count": null,
   "id": "c9ec574d",
   "metadata": {},
   "outputs": [],
   "source": [
    "#Trying to convert the dataarray from xr to np to flatten it so it can be used together with the zarr files. \n",
    "import matplotlib.pyplot as plt\n",
    "ds_fasit_1d = ds_fasit[\"zeta\"].values.flatten()\n",
    "ds_fasit_1d.shape\n"
   ]
  },
  {
   "cell_type": "code",
   "execution_count": null,
   "id": "68ea7f1c",
   "metadata": {},
   "outputs": [],
   "source": [
    "ds_zarr.shape"
   ]
  },
  {
   "cell_type": "code",
   "execution_count": null,
   "id": "755cf25d",
   "metadata": {},
   "outputs": [],
   "source": [
    "ds_fasit.dims"
   ]
  },
  {
   "cell_type": "code",
   "execution_count": null,
   "id": "f565ea7d",
   "metadata": {},
   "outputs": [],
   "source": [
    "ds_zarr.shape"
   ]
  },
  {
   "cell_type": "code",
   "execution_count": null,
   "id": "4e475d5b",
   "metadata": {},
   "outputs": [],
   "source": [
    "#the shapes are now similiar\n",
    "#I am therefore calculating the difference between the datasets and checking wether they are the same or not\n",
    "diff = ds_fasit_1d - ds_zarr\n",
    "replace_nan = np.where(np.isnan(diff), 0, diff)\n",
    "if np.any(replace_nan != 0):\n",
    "    print(\"not the same zeta values between the norkyst and zarr model\")\n",
    "else:\n",
    "    print(\"the values are the same for the zarr and the norkyst model\")"
   ]
  },
  {
   "cell_type": "code",
   "execution_count": null,
   "id": "e2fc425f",
   "metadata": {},
   "outputs": [],
   "source": [
    "#np.set_printoptions(threshold=np.inf)\n",
    "#double check manually that values actually are the same"
   ]
  },
  {
   "cell_type": "code",
   "execution_count": null,
   "id": "609d2070",
   "metadata": {},
   "outputs": [],
   "source": [
    "#checking for an another time as well\n",
    "ds_fasit_2023 = xr.open_dataset(\"/lustre/storeB/project/fou/hi/foccus/datasets/symlinks/norkystv3-hindcast/2023/norkyst800-20230101.nc\").isel(s_rho = -1, time = 0)\n",
    "ds_zarr_2023 = open_dataset(\"/lustre/storeB/project/fou/hi/foccus/datasets/norkystv3_hindcast_2023_surface.zarr\", select = \"zeta\", start = '2013-01-01T00:00:00', end = '2013-01-01T00:00:00')"
   ]
  },
  {
   "cell_type": "code",
   "execution_count": null,
   "id": "1b1f2070",
   "metadata": {},
   "outputs": [],
   "source": [
    "#flattening the norkyst model\n",
    "ds_fasit_2023_1d = ds_fasit_2023[\"zeta\"].values.flatten()\n",
    "ds_fasit_2023_1d.shape"
   ]
  },
  {
   "cell_type": "code",
   "execution_count": null,
   "id": "e6355b85",
   "metadata": {},
   "outputs": [],
   "source": [
    "ds_zarr_2023.shape"
   ]
  },
  {
   "cell_type": "code",
   "execution_count": null,
   "id": "f984b2fa",
   "metadata": {},
   "outputs": [],
   "source": [
    "diff_2023 = ds_fasit_2023_1d - ds_zarr_2023\n",
    "replace_nan_2023 = np.where(np.isnan(diff_2023), 0, diff_2023)\n",
    "if np.any(replace_nan != 0):\n",
    "    print(\"not the same zeta values between the norkyst and zarr model\")\n",
    "else:\n",
    "    print(\"the values are the same for the zarr and the norkyst model\")\n"
   ]
  },
  {
   "cell_type": "code",
   "execution_count": null,
   "id": "4a7e5f31",
   "metadata": {},
   "outputs": [],
   "source": [
    "#DISCOVER ANEMOI DATASETS LEARNING:\n"
   ]
  },
  {
   "cell_type": "code",
   "execution_count": null,
   "id": "051f8747",
   "metadata": {},
   "outputs": [],
   "source": [
    "#The dimension of the dataset\n",
    "ds_zarr.field_shape"
   ]
  },
  {
   "cell_type": "code",
   "execution_count": null,
   "id": "b8637ba1",
   "metadata": {},
   "outputs": [],
   "source": [
    "#finding the belonging index of a variable\n",
    "index = ds_zarr.name_to_index[\"zeta\"]\n",
    "print(index)"
   ]
  },
  {
   "cell_type": "code",
   "execution_count": null,
   "id": "1e718b85",
   "metadata": {},
   "outputs": [],
   "source": [
    "#checking the statistics for a selected variable\n",
    "stats = ds_zarr.statistics\n",
    "stats[\"mean\"]\n",
    "stats[\"maximum\"]\n",
    "stats[\"minimum\"]\n",
    "stats[\"stdev\"]\n",
    "\n",
    "print(stats[\"mean\"][index], stats[\"stdev\"][index])"
   ]
  },
  {
   "cell_type": "markdown",
   "id": "27a84c31",
   "metadata": {},
   "source": []
  }
 ],
 "metadata": {
  "kernelspec": {
   "display_name": ".venv",
   "language": "python",
   "name": "python3"
  },
  "language_info": {
   "codemirror_mode": {
    "name": "ipython",
    "version": 3
   },
   "file_extension": ".py",
   "mimetype": "text/x-python",
   "name": "python",
   "nbconvert_exporter": "python",
   "pygments_lexer": "ipython3",
   "version": "3.11.11"
  }
 },
 "nbformat": 4,
 "nbformat_minor": 5
}
