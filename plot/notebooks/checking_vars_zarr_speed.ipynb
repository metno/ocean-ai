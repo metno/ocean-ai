{
 "cells": [
  {
   "cell_type": "code",
   "execution_count": null,
   "id": "0609a231",
   "metadata": {},
   "outputs": [],
   "source": [
    "#import necessary datasets  \n",
    "import xarray as xr\n",
    "from anemoi.datasets import open_dataset\n",
    "import matplotlib.pyplot as plt\n",
    "import numpy as np"
   ]
  },
  {
   "cell_type": "code",
   "execution_count": null,
   "id": "d21178e2",
   "metadata": {},
   "outputs": [],
   "source": [
    "import cartopy\n",
    "import cmocean\n",
    "import cartopy.crs as ccrs"
   ]
  },
  {
   "cell_type": "code",
   "execution_count": null,
   "id": "bb8eac7c",
   "metadata": {},
   "outputs": [],
   "source": [
    "file_name = f'/lustre/storeB/project/fou/hi/foccus/datasets/norkystv3_hindcast_2013_surface.zarr'\n",
    "file2 = f'/lustre/storeB/project/fou/hi/foccus/datasets/norkystv3_hindcast_2024_surface.zarr'"
   ]
  },
  {
   "cell_type": "code",
   "execution_count": null,
   "id": "8d919f00",
   "metadata": {},
   "outputs": [],
   "source": [
    "ds_u_eastward_0_2013 = open_dataset(file_name, select = \"u_eastward_0\")\n",
    "ds_u_eastward_0_2024 = open_dataset(file2, select = \"u_eastward_0\")\n",
    "ds_v_northward_0_2013 = open_dataset(file_name, select = \"v_northward_0\") #u near the surface\n",
    "ds_v_northward_0_2024 = open_dataset(file2, select = \"v_northward_0\")"
   ]
  },
  {
   "cell_type": "code",
   "execution_count": null,
   "id": "528278bc",
   "metadata": {},
   "outputs": [],
   "source": [
    "def speed(ds_file, year, time_indx, cbar_title):\n",
    "    fig,ax = plt.subplots(figsize = (8,10), subplot_kw={\"projection\": ccrs.NorthPolarStereo()})\n",
    "    im = ax.scatter(ds_file.longitudes, ds_file.latitudes, c = ds_file[time_indx,0,0,:], s=2, cmap = cmocean.cm.speed, transform = ccrs.PlateCarree())\n",
    "    ax.add_feature(cartopy.feature.LAND, zorder = 1, edgecolor = \"black\")\n",
    "    cax = fig.add_axes([ax.get_position().x1+0.025, ax.get_position().y0, 0.025, ax.get_position().height])\n",
    "    cbar = fig.colorbar(im, ax=ax, cax=cax, extend = \"both\")\n",
    "    cbar.ax.set_title(cbar_title, fontsize = 14)\n",
    "    ax.set_title(f'+ {time_indx}h from {year} - 01.01T000:00:00')\n",
    "    plt.show()"
   ]
  },
  {
   "cell_type": "code",
   "execution_count": null,
   "id": "d709be65",
   "metadata": {},
   "outputs": [],
   "source": [
    "for time_indx in [0,12,24]:\n",
    "    speed(ds_file=ds_u_eastward_0_2013, year = 2013, time_indx=time_indx, cbar_title=\"U_0\")\n",
    "    "
   ]
  },
  {
   "cell_type": "code",
   "execution_count": null,
   "id": "1eb64932",
   "metadata": {},
   "outputs": [],
   "source": [
    "for time_indx in [0,12,24]:\n",
    "    speed(ds_file=ds_u_eastward_0_2024, year = 2024, time_indx=time_indx, cbar_title=\"U_0\")\n"
   ]
  },
  {
   "cell_type": "code",
   "execution_count": null,
   "id": "aac8e827",
   "metadata": {},
   "outputs": [],
   "source": [
    "for time_indx in [0,12,24]:\n",
    "    speed(ds_file=ds_v_northward_0_2013, year = 2013, time_indx=time_indx, cbar_title=\"V_0\")"
   ]
  },
  {
   "cell_type": "code",
   "execution_count": null,
   "id": "4faf33c0",
   "metadata": {},
   "outputs": [],
   "source": [
    "for time_indx in [0,12,24]:\n",
    "    speed(ds_file=ds_v_northward_0_2024, year = 2024, time_indx=time_indx, cbar_title=\"V_0\")"
   ]
  },
  {
   "cell_type": "code",
   "execution_count": null,
   "id": "2c27e6a5",
   "metadata": {},
   "outputs": [],
   "source": [
    "ds_u_bar_2013 = open_dataset(file_name, select = \"ubar_eastward\")\n",
    "ds_u_bar_2024 = open_dataset(file2, select = \"ubar_eastward\")\n",
    "ds_v_bar_2013 = open_dataset(file_name, select = \"vbar_northward\")\n",
    "ds_v_bar_2024 = open_dataset(file2, select = \"vbar_northward\")"
   ]
  },
  {
   "cell_type": "code",
   "execution_count": null,
   "id": "003ff4b1",
   "metadata": {},
   "outputs": [],
   "source": [
    "for time_indx in [0,12,24]:    \n",
    "    speed(ds_u_bar_2013, year = 2013, time_indx=time_indx, cbar_title=\"Ubar\")"
   ]
  },
  {
   "cell_type": "code",
   "execution_count": null,
   "id": "9a54039d",
   "metadata": {},
   "outputs": [],
   "source": [
    "for time_indx in [0,12,24]:\n",
    "    speed(ds_file = ds_u_bar_2024, year = 2024, time_indx = time_indx, cbar_title=\"Ubar\")"
   ]
  },
  {
   "cell_type": "code",
   "execution_count": null,
   "id": "e708ca4e",
   "metadata": {},
   "outputs": [],
   "source": [
    "for time_indx in [0,12,24]:\n",
    "    speed(ds_file = ds_v_bar_2013, year = 2013, time_indx = time_indx, cbar_title=\"Vbar\")"
   ]
  },
  {
   "cell_type": "code",
   "execution_count": null,
   "id": "3c7de0e4",
   "metadata": {},
   "outputs": [],
   "source": [
    "for time_indx in [0,12,24]:\n",
    "    speed(ds_file = ds_v_bar_2024, year = 2024, time_indx = time_indx, cbar_title=\"Vbar\")"
   ]
  },
  {
   "cell_type": "code",
   "execution_count": null,
   "id": "90e6801f",
   "metadata": {},
   "outputs": [],
   "source": [
    "#throwing in the zeta values as well, ignore the speed name of the function\n",
    "ds_zeta_2013 = open_dataset(file_name, select = \"zeta\")\n",
    "ds_zeta_2024 = open_dataset(file2, select = \"zeta\")"
   ]
  },
  {
   "cell_type": "code",
   "execution_count": null,
   "id": "ff1de289",
   "metadata": {},
   "outputs": [],
   "source": [
    "for time_indx in [0,12,24]:\n",
    "    speed(ds_file=ds_zeta_2013, year = 2013, time_indx=time_indx, cbar_title=\"Zeta\")"
   ]
  },
  {
   "cell_type": "code",
   "execution_count": null,
   "id": "290e0930",
   "metadata": {},
   "outputs": [],
   "source": [
    "for time_indx in [0,12,24]:\n",
    "    speed(ds_file = ds_zeta_2024, year = 2024, time_indx = time_indx, cbar_title=\"Zeta\")"
   ]
  },
  {
   "cell_type": "code",
   "execution_count": null,
   "id": "972a79b3",
   "metadata": {},
   "outputs": [],
   "source": []
  }
 ],
 "metadata": {
  "kernelspec": {
   "display_name": ".venv",
   "language": "python",
   "name": "python3"
  },
  "language_info": {
   "codemirror_mode": {
    "name": "ipython",
    "version": 3
   },
   "file_extension": ".py",
   "mimetype": "text/x-python",
   "name": "python",
   "nbconvert_exporter": "python",
   "pygments_lexer": "ipython3",
   "version": "3.11.11"
  }
 },
 "nbformat": 4,
 "nbformat_minor": 5
}
