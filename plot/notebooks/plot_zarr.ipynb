{
 "cells": [
  {
   "cell_type": "markdown",
   "metadata": {},
   "source": [
    "# Plot a zarr archive \n",
    "### and animate a selected variable"
   ]
  },
  {
   "cell_type": "code",
   "execution_count": null,
   "metadata": {},
   "outputs": [],
   "source": [
    "%matplotlib ipympl\n",
    "%load_ext autoreload\n",
    "%autoreload 2"
   ]
  },
  {
   "cell_type": "code",
   "execution_count": null,
   "metadata": {},
   "outputs": [],
   "source": [
    "import matplotlib.pyplot as plt\n",
    "import anemoi.datasets as ad\n",
    "import numpy as np\n",
    "import matplotlib.animation as animation\n",
    "from utils import mesh, interpolate, subset_variable, update_anim, simple_mesh_plot\n",
    "\n",
    "#import sys # use to import functions from some other folder like the inference dir\n",
    "#sys.path.append(\"/lustre/storeB/project/fou/hi/foccus/ina/ocean-ai/inference\")"
   ]
  },
  {
   "cell_type": "markdown",
   "metadata": {},
   "source": [
    "### Using anemoi-datasets to open and look at the data"
   ]
  },
  {
   "cell_type": "code",
   "execution_count": null,
   "metadata": {},
   "outputs": [],
   "source": [
    "dir = '/lustre/storeB/project/fou/hi/foccus/datasets/prepro_norkyst_tests/'\n",
    "file = dir + 'norkyst800_his_zdepth_2024_m00_AN_ml.zarr'\n",
    "#file = dir + 'norkyst800_his_zdepth_2024_temp_m00_AN_ml.zarr'\n",
    "zda = ad.open_dataset(file)"
   ]
  },
  {
   "cell_type": "markdown",
   "metadata": {},
   "source": [
    "Select the variable and number of time steps"
   ]
  },
  {
   "cell_type": "code",
   "execution_count": null,
   "metadata": {},
   "outputs": [],
   "source": [
    "ntime = 12\n",
    "var_name = 'temperature_1'\n",
    "indx_var = zda.name_to_index[var_name]\n",
    "var_norway = zda[:ntime,indx_var,0,:]\n",
    "\n",
    "longitude = zda.longitudes\n",
    "latitude = zda.latitudes"
   ]
  },
  {
   "cell_type": "markdown",
   "metadata": {},
   "source": [
    "Are the arrays equidistant?"
   ]
  },
  {
   "cell_type": "code",
   "execution_count": null,
   "metadata": {},
   "outputs": [],
   "source": [
    "differences = np.diff(np.sort(np.unique(longitude)))\n",
    "are_same = np.all(differences == differences[0])"
   ]
  },
  {
   "cell_type": "code",
   "execution_count": null,
   "metadata": {},
   "outputs": [],
   "source": [
    "are_same"
   ]
  },
  {
   "cell_type": "code",
   "execution_count": null,
   "metadata": {},
   "outputs": [],
   "source": [
    "for i in range(-10,-1):\n",
    "#for i in range(10):\n",
    "    print(longitude[i+1]-longitude[i])"
   ]
  },
  {
   "cell_type": "code",
   "execution_count": null,
   "metadata": {},
   "outputs": [],
   "source": [
    "#for i in range(-10,-1):\n",
    "for i in range(10):\n",
    "    print(latitude[i+1]-latitude[i])"
   ]
  },
  {
   "cell_type": "markdown",
   "metadata": {},
   "source": [
    "### Get a subset of the dataset \n",
    "Default: Lofoten & Vesterålen, Northern Norway"
   ]
  },
  {
   "cell_type": "code",
   "execution_count": null,
   "metadata": {},
   "outputs": [],
   "source": [
    "lon_min, lon_max = 11.83083, 15.59072\n",
    "lat_min, lat_max = 67.41791, 69.20699\n",
    "\n",
    "var, lat, lon = subset_variable(var_norway,latitude,longitude,lat_min,lat_max,lon_min,lon_max)\n",
    "#del var_norway, longitude, latitude"
   ]
  },
  {
   "cell_type": "markdown",
   "metadata": {},
   "source": [
    "The zarr data provides 1D arrays which are representing the 2D data. We use meshgrid and an interpolation to map the data back to 2D arrays. \n",
    "\n",
    "Note: Resolution of the grid needs to be set. If it is too small the plotting/animation will be very slow. But you want to see small features too. Find a middle ground."
   ]
  },
  {
   "cell_type": "code",
   "execution_count": null,
   "metadata": {},
   "outputs": [],
   "source": [
    "resolution=0.01 # TODO try smaller than 0.25, this is same as MEPS I think?\n",
    "lat_grid, lon_grid = mesh(lat, lon, resolution)\n",
    "# TODO: no need to call mesh here an also inside interpolate...\n",
    "\n",
    "var_interp = np.empty([ntime,lat_grid.shape[0],lat_grid.shape[1]])\n",
    "for itime in range(ntime):\n",
    "    var_interp[itime] = interpolate(var[itime], lat, lon, resolution)"
   ]
  },
  {
   "cell_type": "code",
   "execution_count": null,
   "metadata": {},
   "outputs": [],
   "source": [
    "time_steps = zda.dates\n",
    "vmin = round(np.nanmin(var_interp) - 0.2)\n",
    "vmax = round(np.nanmax(var_interp) + 0.2)\n",
    "# Initialize the plot at t=0\n",
    "fig, ax1, heatmap = simple_mesh_plot(var_interp[0],lat_grid,lon_grid,time_steps[0],\n",
    "                                     var_name,vmin,vmax)\n",
    "\n",
    "# Start the animation:\n",
    "# set interval=500 for a slower anim\n",
    "ani = animation.FuncAnimation(fig, update_anim, frames=ntime, interval=200,fargs=(ax1, heatmap, var_interp, time_steps))"
   ]
  },
  {
   "cell_type": "markdown",
   "metadata": {},
   "source": [
    "Save the animation as a GIF (optional)\n",
    "\n",
    "**NOTE:** only possible if the imagemagick package ia installed already"
   ]
  },
  {
   "cell_type": "code",
   "execution_count": null,
   "metadata": {},
   "outputs": [],
   "source": [
    "#ani.save('zarr_animation.gif', writer='imagemagick')"
   ]
  },
  {
   "cell_type": "markdown",
   "metadata": {},
   "source": [
    "## Plot landmask "
   ]
  },
  {
   "cell_type": "code",
   "execution_count": null,
   "metadata": {},
   "outputs": [],
   "source": [
    "# Load contour paths from the .npy file\n",
    "dir_save = '/lustre/storeB/project/fou/hi/foccus/ina/ocean-ai/plot/'\n",
    "contour_loaded = np.load(dir_save + 'surface_mask_contour_paths.npy', allow_pickle=True)"
   ]
  },
  {
   "cell_type": "code",
   "execution_count": null,
   "metadata": {},
   "outputs": [],
   "source": [
    "fig3, ax3 = plt.subplots(figsize=(8, 6))\n",
    "ax3.pcolormesh(lon_grid,lat_grid,var_interp[0])\n",
    "ax3.scatter(longitude, latitude, c=var_norway[0])\n",
    "\n",
    "# Plot each contour path\n",
    "for vertices in contour_loaded:\n",
    "    ax3.plot(vertices[:, 0], vertices[:, 1], color='black')\n",
    "\n",
    "# Add labels and a title\n",
    "ax3.set_xlabel('Longitude')\n",
    "ax3.set_ylabel('Latitude')\n",
    "ax3.set_title('Land-Sea Border')"
   ]
  },
  {
   "cell_type": "markdown",
   "metadata": {},
   "source": [
    "Some other non-plotting things:\n",
    "### Exploring the dataset using anemoi-datasets\n",
    "Using various anemoi-datasets functions which are useful to know. "
   ]
  },
  {
   "cell_type": "code",
   "execution_count": null,
   "metadata": {},
   "outputs": [],
   "source": [
    "dates_all = zda.dates\n",
    "type(dates_all)\n",
    "time_diffs = np.diff(dates_all)\n",
    "#print(time_diffs,len(dates_all))\n",
    "\n",
    "# Check if all differences are the same\n",
    "consistent_intervals = np.all(time_diffs == time_diffs[0])\n",
    "\n",
    "print(\"All time intervals are consistent (have the same distance in time):\", consistent_intervals)"
   ]
  },
  {
   "cell_type": "code",
   "execution_count": null,
   "metadata": {},
   "outputs": [],
   "source": [
    "zda.variables"
   ]
  },
  {
   "cell_type": "code",
   "execution_count": null,
   "metadata": {},
   "outputs": [],
   "source": [
    "# Data shap'en\n",
    "# (24, 16, 1, 3153556) \n",
    "# tilsvarer i dette tilfellet: 24 tidssteg, 16 variables, 1 ensemble, ~3M gridpoints\n",
    "zda.shape # samme som zda.data.shape"
   ]
  },
  {
   "cell_type": "code",
   "execution_count": null,
   "metadata": {},
   "outputs": [],
   "source": [
    "# Print the methods of the dataset\n",
    "dir(zda)"
   ]
  },
  {
   "cell_type": "code",
   "execution_count": null,
   "metadata": {},
   "outputs": [],
   "source": [
    "zda.variables_metadata['temperature_1']\n",
    "#zda.variables_metadata['zeta']"
   ]
  },
  {
   "cell_type": "code",
   "execution_count": null,
   "metadata": {},
   "outputs": [],
   "source": [
    "# name_to_index will print all the variable names (16 of them) \n",
    "# and their indexes so we know how to access a variable by index\n",
    "zda.name_to_index"
   ]
  }
 ],
 "metadata": {
  "kernelspec": {
   "display_name": "anemoi-env",
   "language": "python",
   "name": "python3"
  },
  "language_info": {
   "codemirror_mode": {
    "name": "ipython",
    "version": 3
   },
   "file_extension": ".py",
   "mimetype": "text/x-python",
   "name": "python",
   "nbconvert_exporter": "python",
   "pygments_lexer": "ipython3",
   "version": "3.10.4"
  }
 },
 "nbformat": 4,
 "nbformat_minor": 2
}
