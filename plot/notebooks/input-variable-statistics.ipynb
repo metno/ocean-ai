{
 "cells": [
  {
   "cell_type": "code",
   "execution_count": null,
   "metadata": {},
   "outputs": [],
   "source": [
    "%matplotlib ipympl\n",
    "%load_ext autoreload\n",
    "%autoreload 2"
   ]
  },
  {
   "cell_type": "code",
   "execution_count": null,
   "metadata": {},
   "outputs": [],
   "source": [
    "import matplotlib.pyplot as plt\n",
    "import seaborn as sns\n",
    "import xarray as xr\n",
    "import numpy as np"
   ]
  },
  {
   "cell_type": "code",
   "execution_count": null,
   "metadata": {},
   "outputs": [],
   "source": [
    "file1 = '/lustre/storeB/project/fou/hi/foccus/datasets/symlinks/norkystv3-hindcast/2024/norkyst800-20240101.nc'\n",
    "file2 = '/lustre/storeB/project/fou/hi/foccus/datasets/symlinks/norkystv3-hindcast/2024/norkyst800-20240730.nc' # one date in the summer and one in the winter\n",
    "ds1 = xr.open_dataset(file1,drop_variables=[\"Uwind_eastward\",\"Vwind_northward\",\"ubar_eastward\",\"vbar_northward\",\"w\",\"ln_AKs\",\"hc\",\"Cs_r\",\"Cs_w\",\"h\",\"projection_stere\",\"depth\"]).isel(s_rho=0, s_w=0)\n",
    "ds2 = xr.open_dataset(file2,drop_variables=[\"Uwind_eastward\",\"Vwind_northward\",\"ubar_eastward\",\"vbar_northward\",\"w\",\"ln_AKs\",\"hc\",\"Cs_r\",\"Cs_w\",\"h\",\"projection_stere\",\"depth\"]).isel(s_rho=0, s_w=0)\n",
    "ds = xr.merge([ds1, ds2])\n",
    "print(ds)"
   ]
  },
  {
   "cell_type": "markdown",
   "metadata": {},
   "source": [
    "# Violin plot"
   ]
  },
  {
   "cell_type": "code",
   "execution_count": null,
   "metadata": {},
   "outputs": [],
   "source": [
    "#Much faster to plot if I flatten it first\n",
    "temp = np.array(ds.temperature).flatten()\n",
    "sal = np.array(ds.salinity).flatten()\n",
    "u = np.array(ds.u_eastward).flatten()\n",
    "v = np.array(ds.v_northward).flatten()"
   ]
  },
  {
   "cell_type": "code",
   "execution_count": null,
   "metadata": {},
   "outputs": [],
   "source": [
    "fig, ax = plt.subplots(3,2, figsize=(15,15))\n",
    "\n",
    "a = sns.violinplot(data=sal, inner='box', ax=ax[0,0])\n",
    "a.set_xticklabels(['Salinity'])\n",
    "a = sns.violinplot(data=sal[np.where(sal > 33)], ax=ax[0,1])\n",
    "a.set_xticklabels(['Salinity 33 cutoff'])\n",
    "a = sns.violinplot(data=temp, inner='box', ax=ax[1,0])\n",
    "a.set_xticklabels(['Temperature'])\n",
    "a = sns.violinplot(data=u, inner='box', ax=ax[2,0])\n",
    "\n",
    "a = sns.violinplot(data=v, inner='box', ax=ax[2,1])"
   ]
  },
  {
   "cell_type": "markdown",
   "metadata": {},
   "source": [
    "# Subsampling the data for faster plots"
   ]
  },
  {
   "cell_type": "code",
   "execution_count": null,
   "metadata": {},
   "outputs": [],
   "source": [
    "x_npoints = ds.X.shape[0]\n",
    "y_npoints = ds.Y.shape[0]\n",
    "print(x_npoints, y_npoints)\n",
    "\n",
    "# Take a samle of the data and then make violin plots (10%) and thake every other time step\n",
    "ds_sample = ds.isel(time=slice(None, None, 2),  # every other time step\n",
    "                    X=np.random.choice(ds.X.size, x_npoints//10, replace=False),\n",
    "                    Y=np.random.choice(ds.Y.size, y_npoints//10, replace=False))"
   ]
  },
  {
   "cell_type": "code",
   "execution_count": null,
   "metadata": {},
   "outputs": [],
   "source": [
    "\"\"\"\n",
    "Violin plots of the sampled data.\n",
    "flatten arrays, remove NaNs, and add titles/labels for clarity\n",
    "\"\"\"\n",
    "fig, ax = plt.subplots(3, 2, figsize=(15, 15))\n",
    "\n",
    "# Helper to flatten and remove NaNs\n",
    "def clean(arr):\n",
    "    return arr.values.flatten()[~np.isnan(arr.values.flatten())]\n",
    "\n",
    "sal = clean(ds_sample.salinity)\n",
    "sal_cut = sal[sal > 33]\n",
    "temp = clean(ds_sample.temperature)\n",
    "zeta = clean(ds_sample.zeta)\n",
    "u = clean(ds_sample.u_eastward)\n",
    "v = clean(ds_sample.v_northward)\n",
    "\n",
    "sns.violinplot(data=sal, inner='box', ax=ax[0,0])\n",
    "ax[0,0].set_xticklabels(['Salinity'])\n",
    "ax[0,0].set_title('Salinity distribution')\n",
    "\n",
    "sns.violinplot(data=sal_cut, inner='box', ax=ax[0,1])\n",
    "ax[0,1].set_xticklabels(['Salinity > 33'])\n",
    "ax[0,1].set_title('Salinity (cutoff > 33)')\n",
    "\n",
    "sns.violinplot(data=temp, inner='box', ax=ax[1,0])\n",
    "ax[1,0].set_xticklabels(['Temperature'])\n",
    "ax[1,0].set_title('Temperature distribution')\n",
    "\n",
    "sns.violinplot(data=zeta, inner='box', ax=ax[1,1])\n",
    "ax[1,1].set_xticklabels(['Zeta'])\n",
    "ax[1,1].set_title('Zeta distribution')\n",
    "\n",
    "sns.violinplot(data=u, inner='box', ax=ax[2,0])\n",
    "ax[2,0].set_xticklabels(['U velocity'])\n",
    "ax[2,0].set_title('U velocity distribution')\n",
    "\n",
    "sns.violinplot(data=v, inner='box', ax=ax[2,1])\n",
    "ax[2,1].set_xticklabels(['V velocity'])\n",
    "ax[2,1].set_title('V velocity distribution')\n",
    "\n",
    "plt.tight_layout()"
   ]
  },
  {
   "cell_type": "markdown",
   "metadata": {},
   "source": [
    "### Mask out values over land \n",
    "and make the same plots"
   ]
  },
  {
   "cell_type": "code",
   "execution_count": null,
   "metadata": {},
   "outputs": [],
   "source": [
    "# mask out values over land\n",
    "ds = ds.where(ds.sea_mask == 1)\n",
    "\n",
    "# then select the same subset of data as before\n",
    "ds_sample = ds.isel(time=slice(None, None, 2),  # every other time step\n",
    "                    X=np.random.choice(ds.X.size, x_npoints//10, replace=False),\n",
    "                    Y=np.random.choice(ds.Y.size, y_npoints//10, replace=False))"
   ]
  },
  {
   "cell_type": "code",
   "execution_count": null,
   "metadata": {},
   "outputs": [],
   "source": [
    "# same violin plots as before, but now with the sea mask applied\n",
    "\n",
    "fig, ax = plt.subplots(3, 2, figsize=(15, 15))\n",
    "\n",
    "sal = clean(ds_sample.salinity)\n",
    "sal_cut = sal[sal > 33]\n",
    "temp = clean(ds_sample.temperature)\n",
    "zeta = clean(ds_sample.zeta)\n",
    "u = clean(ds_sample.u_eastward)\n",
    "v = clean(ds_sample.v_northward)\n",
    "\n",
    "sns.violinplot(data=sal, inner='box', ax=ax[0,0])\n",
    "ax[0,0].set_xticklabels(['Salinity'])\n",
    "ax[0,0].set_title('Salinity distribution')\n",
    "\n",
    "sns.violinplot(data=sal_cut, inner='box', ax=ax[0,1])\n",
    "ax[0,1].set_xticklabels(['Salinity > 33'])\n",
    "ax[0,1].set_title('Salinity (cutoff > 33)')\n",
    "\n",
    "sns.violinplot(data=temp, inner='box', ax=ax[1,0])\n",
    "ax[1,0].set_xticklabels(['Temperature'])\n",
    "ax[1,0].set_title('Temperature distribution')\n",
    "\n",
    "sns.violinplot(data=zeta, inner='box', ax=ax[1,1])\n",
    "ax[1,1].set_xticklabels(['Zeta'])\n",
    "ax[1,1].set_title('Zeta distribution')\n",
    "\n",
    "sns.violinplot(data=u, inner='box', ax=ax[2,0])\n",
    "ax[2,0].set_xticklabels(['U velocity'])\n",
    "ax[2,0].set_title('U velocity distribution')\n",
    "\n",
    "sns.violinplot(data=v, inner='box', ax=ax[2,1])\n",
    "ax[2,1].set_xticklabels(['V velocity'])\n",
    "ax[2,1].set_title('V velocity distribution')\n",
    "\n",
    "plt.tight_layout()"
   ]
  },
  {
   "cell_type": "markdown",
   "metadata": {},
   "source": [
    "# Plotting Normalizations"
   ]
  },
  {
   "cell_type": "code",
   "execution_count": null,
   "metadata": {},
   "outputs": [],
   "source": [
    "# normalize the data with min-max, max, mean-std and std scaling\n",
    "def min_max_scale(arr):\n",
    "    return (arr - arr.min()) / (arr.max() - arr.min())\n",
    "\n",
    "def max_scale(arr):\n",
    "    return arr / arr.max()\n",
    "\n",
    "def mean_std_scale(arr):\n",
    "    return (arr - arr.mean()) / arr.std()\n",
    "\n",
    "def std_scale(arr):\n",
    "    return arr / arr.std()\n"
   ]
  },
  {
   "cell_type": "code",
   "execution_count": null,
   "metadata": {},
   "outputs": [],
   "source": [
    "# Visualize the effect of different normalization methods on each variable using histograms\n",
    "variables = {\n",
    "    'Salinity': sal,\n",
    "    'Temperature': temp,\n",
    "    'U velocity': u,\n",
    "    'V velocity': v,\n",
    "    'Zeta': zeta\n",
    "}\n",
    "\n",
    "scalings = {\n",
    "    'Min-Max': min_max_scale,\n",
    "    'Max': max_scale,\n",
    "    'Mean-Std': mean_std_scale,\n",
    "    #'Std': std_scale #this one looks awful for all except velocity\n",
    "}\n",
    "\n",
    "fig, axes = plt.subplots(3, 2, figsize=(16, 10))\n",
    "axes = axes.flatten()\n",
    "\n",
    "for idx, (var_name, var_data) in enumerate(variables.items()):\n",
    "    ax = axes[idx]\n",
    "    for scale_name, scale_func in scalings.items():\n",
    "        scaled = scale_func(var_data)\n",
    "        #nbins = int(np.sqrt(len(var_data)))  # Use square root rule for number of bins\n",
    "        #ax.hist(scaled, bins=nbins, alpha=0.5, label=scale_name)\n",
    "        ax.hist(scaled, bins=50, alpha=0.5, label=scale_name)\n",
    "    ax.set_title(var_name)\n",
    "    ax.legend()\n",
    "    ax.set_ylabel('Density')\n",
    "    ax.set_xlabel('Value (normalized)')\n",
    "\n",
    "plt.tight_layout()"
   ]
  },
  {
   "cell_type": "code",
   "execution_count": null,
   "metadata": {},
   "outputs": [],
   "source": [
    "# For each normalization method, plot salinity+temperature and u+v+zeta together in separate rows\n",
    "sal_temp = {'Salinity': sal, 'Temperature': temp}\n",
    "uvz = {'U velocity': u, 'V velocity': v, 'Zeta': zeta}\n",
    "\n",
    "fig, axes = plt.subplots(2, len(scalings), figsize=(5 * len(scalings), 10))\n",
    "if len(scalings) == 1:\n",
    "    axes = np.array([[axes[0]], [axes[1]]])\n",
    "\n",
    "for idx, (scale_name, scale_func) in enumerate(scalings.items()):\n",
    "    # First row: salinity and temperature\n",
    "    ax1 = axes[0, idx]\n",
    "    for var_name, var_data in sal_temp.items():\n",
    "        scaled = scale_func(var_data)\n",
    "        nbins = int(np.sqrt(len(var_data)))\n",
    "        ax1.hist(scaled, bins=nbins, alpha=0.5, label=var_name)\n",
    "    ax1.set_title(f'{scale_name} scaling: Salinity & Temp')\n",
    "    ax1.legend()\n",
    "    ax1.set_ylabel('Count')\n",
    "    ax1.set_xlabel('Value (normalized)')\n",
    "\n",
    "    # Second row: u, v, zeta\n",
    "    ax2 = axes[1, idx]\n",
    "    for var_name, var_data in uvz.items():\n",
    "        scaled = scale_func(var_data)\n",
    "        ax2.hist(scaled, bins=50, alpha=0.5, label=var_name)\n",
    "    ax2.set_title(f'{scale_name} scaling: U, V, Zeta')\n",
    "    ax2.legend()\n",
    "    ax2.set_ylabel('Count')\n",
    "    ax2.set_xlabel('Value (normalized)')\n",
    "\n",
    "plt.tight_layout()"
   ]
  },
  {
   "cell_type": "code",
   "execution_count": null,
   "metadata": {},
   "outputs": [],
   "source": []
  }
 ],
 "metadata": {
  "kernelspec": {
   "display_name": ".venv",
   "language": "python",
   "name": "python3"
  },
  "language_info": {
   "codemirror_mode": {
    "name": "ipython",
    "version": 3
   },
   "file_extension": ".py",
   "mimetype": "text/x-python",
   "name": "python",
   "nbconvert_exporter": "python",
   "pygments_lexer": "ipython3",
   "version": "3.9.5"
  }
 },
 "nbformat": 4,
 "nbformat_minor": 2
}
