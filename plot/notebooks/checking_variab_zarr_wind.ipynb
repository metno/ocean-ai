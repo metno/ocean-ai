{
 "cells": [
  {
   "cell_type": "code",
   "execution_count": null,
   "id": "241b3332",
   "metadata": {},
   "outputs": [],
   "source": [
    "#import necessary datasets  \n",
    "import xarray as xr\n",
    "from anemoi.datasets import open_dataset\n",
    "import matplotlib.pyplot as plt\n",
    "import numpy as np"
   ]
  },
  {
   "cell_type": "code",
   "execution_count": null,
   "id": "4a95f079",
   "metadata": {},
   "outputs": [],
   "source": [
    "import cartopy\n",
    "import cmocean\n",
    "import cartopy.crs as ccrs"
   ]
  },
  {
   "cell_type": "code",
   "execution_count": null,
   "id": "80f0444c",
   "metadata": {},
   "outputs": [],
   "source": [
    "file_name = f'/lustre/storeB/project/fou/hi/foccus/datasets/norkystv3_hindcast_2013_surface.zarr'\n",
    "ds_uwind_2013 = open_dataset(file_name, select = \"Uwind_eastward\")\n",
    "file2 = f'/lustre/storeB/project/fou/hi/foccus/datasets/norkystv3_hindcast_2024_surface.zarr'\n",
    "ds_2024 = open_dataset(file2, select = \"Uwind_eastward\")"
   ]
  },
  {
   "cell_type": "code",
   "execution_count": null,
   "id": "a58491c3",
   "metadata": {},
   "outputs": [],
   "source": [
    "def wind(ds_file, year, time_indx, cbar_title):\n",
    "    fig,ax = plt.subplots(figsize = (8,10), subplot_kw={\"projection\": ccrs.NorthPolarStereo()})\n",
    "    im = ax.scatter(ds_file.longitudes, ds_file.latitudes, c = ds_file[time_indx,0,0,:], s=2, cmap = cmocean.cm.speed, transform = ccrs.PlateCarree())\n",
    "    ax.add_feature(cartopy.feature.LAND, zorder = 1, edgecolor = \"black\")\n",
    "    cax = fig.add_axes([ax.get_position().x1+0.025, ax.get_position().y0, 0.025, ax.get_position().height])\n",
    "    cbar = fig.colorbar(im, ax=ax, cax=cax, extend = \"both\")\n",
    "    cbar.ax.set_title(cbar_title, fontsize = 14)\n",
    "    ax.set_title(f'+ {time_indx}h from {year} - 01.01T000:00:00')\n",
    "    plt.show()"
   ]
  },
  {
   "cell_type": "code",
   "execution_count": null,
   "id": "c784fc25",
   "metadata": {},
   "outputs": [],
   "source": [
    "for time_indx in [0,12,24]:\n",
    "    wind(ds_file=ds_uwind_2013, year = 2013, time_indx=time_indx, cbar_title=\"Uwind\")"
   ]
  },
  {
   "cell_type": "code",
   "execution_count": null,
   "id": "a8470d68",
   "metadata": {},
   "outputs": [],
   "source": [
    "for time_indx in [0,12,24]:\n",
    "    wind(ds_file=ds_2024, year = 2024, time_indx=time_indx, cbar_title=\"Uwind\")"
   ]
  },
  {
   "cell_type": "code",
   "execution_count": null,
   "id": "159dd7fb",
   "metadata": {},
   "outputs": [],
   "source": [
    "ds_vwind_2013 = open_dataset(file_name, select = \"Vwind_northward\") #u near the surface\n",
    "ds_vwind_2024 = open_dataset(file2, select = \"Vwind_northward\")"
   ]
  },
  {
   "cell_type": "code",
   "execution_count": null,
   "id": "c026af2d",
   "metadata": {},
   "outputs": [],
   "source": []
  },
  {
   "cell_type": "code",
   "execution_count": null,
   "id": "057227a2",
   "metadata": {},
   "outputs": [],
   "source": [
    "for time_indx in [0,12,24]:\n",
    "    wind(ds_file=ds_vwind_2013, time_indx=time_indx, cbar_title=\"Vwind\", year = 2013)\n"
   ]
  },
  {
   "cell_type": "code",
   "execution_count": null,
   "id": "4ad464d5",
   "metadata": {},
   "outputs": [],
   "source": [
    "for time_indx in [0,12,24]:\n",
    "    wind(ds_file=ds_vwind_2024, time_indx=time_indx, cbar_title=\"Vwind\", year = 2024)"
   ]
  }
 ],
 "metadata": {
  "kernelspec": {
   "display_name": ".venv",
   "language": "python",
   "name": "python3"
  },
  "language_info": {
   "codemirror_mode": {
    "name": "ipython",
    "version": 3
   },
   "file_extension": ".py",
   "mimetype": "text/x-python",
   "name": "python",
   "nbconvert_exporter": "python",
   "pygments_lexer": "ipython3",
   "version": "3.11.11"
  }
 },
 "nbformat": 4,
 "nbformat_minor": 5
}
