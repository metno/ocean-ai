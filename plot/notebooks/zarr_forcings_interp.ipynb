{
 "cells": [
  {
   "cell_type": "code",
   "execution_count": null,
   "id": "c75f1e51",
   "metadata": {},
   "outputs": [],
   "source": [
    "from anemoi.datasets import open_dataset\n",
    "import xarray as xr\n",
    "from func_list import speed, temp, salinity, moisture"
   ]
  },
  {
   "cell_type": "markdown",
   "id": "53696b88",
   "metadata": {},
   "source": [
    "Plots of the different forcing variables from the forcing zarr files.\n",
    "All functions used are imported func_list.py"
   ]
  },
  {
   "cell_type": "code",
   "execution_count": null,
   "id": "513ed2c1",
   "metadata": {},
   "outputs": [],
   "source": [
    "file = f'/lustre/storeB/project/fou/hi/foccus/datasets/forcing_norkystv3_hindcast_zarr/forcing_norkystv3_hindcast_2023.zarr'\n",
    "ds_2023 = open_dataset(file, start = '2013-01-01T00:00:00', end = '2013-01-01T01:00:00', select = \"Uwind\")"
   ]
  },
  {
   "cell_type": "markdown",
   "id": "69058289",
   "metadata": {},
   "source": []
  },
  {
   "cell_type": "code",
   "execution_count": null,
   "id": "daaee617",
   "metadata": {},
   "outputs": [],
   "source": [
    "for time_indx in [0,2,4]: #3hr frequency in the forcings \n",
    "    speed(file_name = '/lustre/storeB/project/fou/hi/foccus/datasets/forcing_norkystv3_hindcast_zarr/forcing_norkystv3_hindcast_2023.zarr', variable=\"Pair\", year=2023, datetime=\"01.01 T00:00:00\", time_indx=time_indx, cbar_title=\"Pair\", new_file_name = f\"Pair_2023_01jan_hr{time_indx*3}\")"
   ]
  },
  {
   "cell_type": "code",
   "execution_count": null,
   "id": "17387384",
   "metadata": {},
   "outputs": [],
   "source": [
    "for time_indx in [0,2,4]:\n",
    "    moisture(file_name = '/lustre/storeB/project/fou/hi/foccus/datasets/forcing_norkystv3_hindcast_zarr/forcing_norkystv3_hindcast_2023.zarr', variable=\"Qair\", year=2023, datetime=\"01.01 T00:00:00\", time_indx=time_indx, cbar_title=\"Qair\", new_file_name = f\"Qair_2023_01jan_hr{time_indx*3}\")"
   ]
  },
  {
   "cell_type": "code",
   "execution_count": null,
   "id": "77f77dc4",
   "metadata": {},
   "outputs": [],
   "source": [
    "for time_indx in [0,3,6]:\n",
    "    temp(file_name = '/lustre/storeB/project/fou/hi/foccus/datasets/forcing_norkystv3_hindcast_zarr/forcing_norkystv3_hindcast_2023.zarr', variable=\"Tair\", year=2023, datetime=\"01.01 T00:00:00\", time_indx=time_indx, cbar_title=\"Tair\", vmin = -5, new_file_name = f\"Tair_2023_01jan_hr{time_indx*3}\")\n"
   ]
  },
  {
   "cell_type": "code",
   "execution_count": null,
   "id": "c6858f33",
   "metadata": {},
   "outputs": [],
   "source": [
    "for time_indx in [0,2,4]:\n",
    "    speed(file_name = '/lustre/storeB/project/fou/hi/foccus/datasets/forcing_norkystv3_hindcast_zarr/forcing_norkystv3_hindcast_2023.zarr', variable=\"cloud\", year=2023, datetime=\"01.01 T00:00:00\", time_indx=time_indx, cbar_title=\"Clouds\", new_file_name = f\"clouds_2023_01jan_hr{time_indx*3}\")"
   ]
  },
  {
   "cell_type": "code",
   "execution_count": null,
   "id": "da4d852e",
   "metadata": {},
   "outputs": [],
   "source": [
    "#this is probably not the most useful plot I would think\n",
    "#for time_indx in [0,2800]:\n",
    "#    speed(file_name = '/lustre/storeB/project/fou/hi/foccus/datasets/forcing_norkystv3_hindcast_zarr/forcing_norkystv3_hindcast_2023.zarr', variable=\"cos_julian_day\", year=2023, datetime=\"01.01 T00:00:00\", time_indx=time_indx, cbar_title=\"cos_jul\")"
   ]
  },
  {
   "cell_type": "code",
   "execution_count": null,
   "id": "8e74afdd",
   "metadata": {},
   "outputs": [],
   "source": [
    "for time_indx in [0,2,4]:\n",
    "    moisture(file_name = '/lustre/storeB/project/fou/hi/foccus/datasets/forcing_norkystv3_hindcast_zarr/forcing_norkystv3_hindcast_2023.zarr', variable=\"rain\", year=2023, datetime=\"01.01 T00:00:00\", time_indx=time_indx, cbar_title=\"Rain\", new_file_name = f\"Rain_2023_01jan_hr{time_indx*3}\")"
   ]
  },
  {
   "cell_type": "code",
   "execution_count": null,
   "id": "f324c0bc",
   "metadata": {},
   "outputs": [],
   "source": [
    "for time_indx in [3,4,5]: #9 o clock, 12 o clock and 15 o clock \n",
    "    temp(file_name = '/lustre/storeB/project/fou/hi/foccus/datasets/forcing_norkystv3_hindcast_zarr/forcing_norkystv3_hindcast_2023.zarr', variable=\"insolation\", year=2023, datetime=\"01.01 T00:00:00\", time_indx=time_indx, cbar_title=\"Insolation\", new_file_name = f\"Insolation_2023_01jan_hr{time_indx*3}\")"
   ]
  },
  {
   "cell_type": "code",
   "execution_count": null,
   "id": "b6c0e790",
   "metadata": {},
   "outputs": [],
   "source": [
    "for time_indx in [0,6,12]:\n",
    "    speed(file_name = '/lustre/storeB/project/fou/hi/foccus/datasets/forcing_norkystv3_hindcast_zarr/forcing_norkystv3_hindcast_2023.zarr', variable=\"Uwind\", year=2023, datetime=\"01.01 T00:00:00\", time_indx=time_indx, cbar_title=\"Uwind\", new_file_name = f\"Uwind_2023_01jan_hr{time_indx*3}\")"
   ]
  },
  {
   "cell_type": "code",
   "execution_count": null,
   "id": "80c491a2",
   "metadata": {},
   "outputs": [],
   "source": [
    "for time_indx in [0,6,12]:\n",
    "    speed(file_name = '/lustre/storeB/project/fou/hi/foccus/datasets/forcing_norkystv3_hindcast_zarr/forcing_norkystv3_hindcast_2023.zarr', variable=\"Vwind\", year=2023, datetime=\"01.01 T00:00:00\", time_indx=time_indx, cbar_title=\"Vwind\", new_file_name = f\"Vwind_2023_01jan_hr{time_indx*3}\")"
   ]
  },
  {
   "cell_type": "markdown",
   "id": "aa60c6ff",
   "metadata": {},
   "source": [
    "cos_julian_day = [-1,1]\n",
    "$\\newline$\n",
    "sin_julian_day = [-1,1]\n",
    "$\\newline$\n",
    "cos_latitude = [-1,1]\n",
    "$\\newline$\n",
    "sin_latitude = [-1,1]\n",
    "$\\newline$\n",
    "cos_local_time = [-1,1]\n",
    "$\\newline$\n",
    "sin_local_time = [-1,1] \n",
    "$\\newline$\n",
    "cos_longitude = [-1,1]\n",
    "$\\newline$\n",
    "sin_langitude = [-1,1]"
   ]
  },
  {
   "cell_type": "code",
   "execution_count": null,
   "id": "010bd774",
   "metadata": {},
   "outputs": [],
   "source": [
    "for time_indx in [0,3,9]:\n",
    "    speed(file_name = '/lustre/storeB/project/fou/hi/foccus/datasets/forcing_norkystv3_hindcast_zarr/forcing_norkystv3_hindcast_2023.zarr', variable=\"cos_latitude\", year=2023, datetime=\"01.01 T00:00:00\", time_indx=time_indx, cbar_title=\"Cos_lat\", new_file_name = f\"Coslat_2023_01jan_hr{time_indx*3}\")"
   ]
  },
  {
   "cell_type": "markdown",
   "id": "f47be0d3",
   "metadata": {},
   "source": []
  }
 ],
 "metadata": {
  "kernelspec": {
   "display_name": ".venv",
   "language": "python",
   "name": "python3"
  },
  "language_info": {
   "codemirror_mode": {
    "name": "ipython",
    "version": 3
   },
   "file_extension": ".py",
   "mimetype": "text/x-python",
   "name": "python",
   "nbconvert_exporter": "python",
   "pygments_lexer": "ipython3",
   "version": "3.11.11"
  }
 },
 "nbformat": 4,
 "nbformat_minor": 5
}
