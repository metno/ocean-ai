{
 "cells": [
  {
   "cell_type": "markdown",
   "id": "53fb9a12",
   "metadata": {},
   "source": [
    "Checking if the 2mmask function made for the files in storeA works correctly on the files in storeB used for the ml project:\n",
    "$\\newline$\n",
    "\n",
    "Explanation of the code: \n",
    "\n",
    "$\\newline$\n",
    "The transformation is an approach following xroms example on xarrays website:\n",
    "$\\newline$\n",
    "$Z_0 = \\frac{h_c \\cdot S + h \\cdot C}{h_c + h }$\n",
    "$\\newline$\n",
    "$z = Z_0 (\\zeta + h) + \\zeta$\n",
    "$\\newline$\n",
    "This creates a new datacoordinate Z_rho. \n",
    "\n",
    "Explanation: \n",
    "The code calculates the midpoint of each s-layer depending on which transformation is found in the V-transform. V-transform == 2 is more regulary used for newer ROMS models according to xroms. \n",
    "$\\newline$\n",
    "The calculations creates a variable $Z_0$ which is calculated by the use of:\n",
    "$\\newline$\n",
    "hc = critical depth for stretching \n",
    "$\\newline$\n",
    "$s_rho$ = s-layers \n",
    "$\\newline$\n",
    "h = total depth\n",
    "$\\newline$\n",
    "$Cs_r$ = stretching curve for the rho points\n",
    "$\\newline$\n",
    "$\\zeta$ = free surface  \n",
    "$\\newline$\n",
    "\n",
    "$Z_0$ explains the depth at a given grid cell using the stretching features including the topography, but it excludes the surface layer.\n",
    "$z_{rho}$ then includes the surface elevation by including $\\zeta$ in the calculations and providing the dataset with a new coordinate defining the depth of the grid cells. \n",
    "\n",
    "$\\newline$\n",
    "$\\newline$\n",
    "\n",
    "Finding the 2m values:\n",
    "1. Take the absolute value of the depths (using z_rho) and then subtracting two, to then be able to pick out the resulting numbers closest to zero. Those closest to zero will be the ones near 2meters depth in the model.\n",
    "2. The diff.fillna function allows us to have zeros as a value for the landvalues rather than nan, as nan gives errors. Though this is corrected later in the code when plotting with seaborn to ensure the land is visibly different from the rest of the plot.  \n",
    "3. Using argmin, I am selecting out the index of the number closest to zero, to find which s_layer it belongs to. This is why the dimension being called on is s_rho. \n",
    "4. Then selecting the index array defined above of those closest to two meters, I use this as an isel, only selecting out these z_rho values to create a new array. "
   ]
  },
  {
   "cell_type": "code",
   "execution_count": null,
   "id": "37e80999",
   "metadata": {},
   "outputs": [],
   "source": [
    "#Importing necessary datasets\n",
    "import xarray as xr\n",
    "import matplotlib.pyplot as plt \n",
    "import numpy as np "
   ]
  },
  {
   "cell_type": "code",
   "execution_count": null,
   "id": "e6c873d2",
   "metadata": {},
   "outputs": [],
   "source": [
    "#Manually installing seaborn due to problems with the terminal\n",
    "%pip install seaborn\n",
    "#pip show seaborn\n",
    "import seaborn as sns"
   ]
  },
  {
   "cell_type": "code",
   "execution_count": null,
   "id": "828bf701",
   "metadata": {},
   "outputs": [],
   "source": [
    "#Importing the datasets and selecting different timesteps to reduce dataset. 01.06.2024\n",
    "file1 = f'/lustre/storeB/project/fou/hi/foccus/datasets/symlinks/norkystv3-hindcast/2024/norkyst800-20240601.nc'\n",
    "ds_norkyst_lavvann = xr.open_dataset(file1, engine=\"netcdf4\").sel(time = '2024-06-01T07:00:00.000000000') #Kartverket kl. 07 - 30cm i vannstand\n",
    "ds_norkyst_høyvann = xr.open_dataset(file1, engine = \"netcdf4\").sel(time = '2024-06-01T05:00:00.000000000') #Kartverket kl. 01 - 70cm i vannstand"
   ]
  },
  {
   "cell_type": "code",
   "execution_count": null,
   "id": "5e27295f",
   "metadata": {},
   "outputs": [],
   "source": [
    "#check datafile \n",
    "\n",
    "\"\"\"\n",
    "Differences between the storeA and storeB files\n",
    "ocean_time = time \n",
    "Vtransform does not exist in the storeB norkystv3_hindcast, has to be removed\n",
    "I use the equation for model vtransform == 2 because it represents newer models according to xroms, which I am guessing this is \n",
    "Otherwhise I think everything should be the same between the datasets\n",
    "\"\"\"\n",
    "#ds_norkyst_lavvann.time.values\n",
    "\n",
    "ds_norkyst_lavvann"
   ]
  },
  {
   "cell_type": "code",
   "execution_count": null,
   "id": "e2366751",
   "metadata": {},
   "outputs": [],
   "source": [
    "def finding_2m_layer(ds_name, title):\n",
    "    #Define necessary variables used for the transformation from s_layer to depth\n",
    "    hc = ds_name[\"hc\"] #Critical depth for stretching\n",
    "    cs_r = ds_name[\"Cs_r\"] #stretching curve at rho points\n",
    "    zeta = ds_name[\"zeta\"] #.fillna(0) #free-surface \n",
    "    H = ds_name[\"h\"] #bathymetry at rho-points (depth)\n",
    "    #Vtransform = ds_name[\"Vtransform\"] Not in this dataset\n",
    "    s_rho = ds_name[\"s_rho\"] #range 1,40. 40 is surface layer\n",
    "\n",
    "    #Transformation process\n",
    "    #if Vtransform == 1:\n",
    "        #Z_0_rho = hc * (s_rho - cs_r) + cs_r * H\n",
    "        #z_rho = Z_0_rho + zeta * (1+Z_0_rho/H)\n",
    "    #elif Vtransform == 2:\n",
    "    Z_0_rho = (hc * s_rho + cs_r * H) / (hc + H)\n",
    "    z_rho = zeta + (zeta + H) * Z_0_rho\n",
    "\n",
    "    ds_name.coords[\"z_rho\"] = z_rho.transpose() #Corrects the dimensions\n",
    "\n",
    "    #calculating the 2meters depth and creating two new arrays. One controlrun\n",
    "    #for the actual values and one array containing the indexes of the values. \n",
    "    #If one wants to find for other depths than 2 meters, replace the calculatipon of diff with the new value. \n",
    "    z_rho_pos = abs(ds_name[\"z_rho\"])\n",
    "    diff = abs(z_rho_pos-2) #2meter\n",
    "    diff = diff.fillna(0)\n",
    "    index = diff.argmin(dim = \"s_rho\")\n",
    "    close_to_2m_val = z_rho.isel(s_rho=index)\n",
    "    #zero = nan in plot\n",
    "    index = index.where(index != 0)\n",
    "    ax = sns.heatmap(np.array(index)[::-1,::-1], vmin=25, cbar_kws={'label': 'Index'})\n",
    "    ax.set_title(title)\n",
    "    return index, close_to_2m_val, ax\n"
   ]
  },
  {
   "cell_type": "code",
   "execution_count": null,
   "id": "2d593b77",
   "metadata": {},
   "outputs": [],
   "source": [
    "finding_2m_layer(ds_norkyst_lavvann, title=\"Lavvann 01.06.2024 kl.07 - 30cm\")"
   ]
  },
  {
   "cell_type": "code",
   "execution_count": null,
   "id": "cecf12eb",
   "metadata": {},
   "outputs": [],
   "source": [
    "finding_2m_layer(ds_norkyst_høyvann, title=\"Høyvann 01.06.2024 kl. 01 - 70cm\")"
   ]
  },
  {
   "cell_type": "code",
   "execution_count": null,
   "id": "ed6021cc",
   "metadata": {},
   "outputs": [],
   "source": [
    "#Adding a later year to see wether there are many changes or not\n",
    "#Same date but in 2018 and 2012"
   ]
  },
  {
   "cell_type": "code",
   "execution_count": null,
   "id": "59821a6d",
   "metadata": {},
   "outputs": [],
   "source": [
    "file_2 = f'/lustre/storeB/project/fou/hi/foccus/datasets/symlinks/norkystv3-hindcast/2018/norkyst800-20180601.nc'\n",
    "file_3 = f'/lustre/storeB/project/fou/hi/foccus/datasets/symlinks/norkystv3-hindcast/2012/norkyst800-20120601.nc'"
   ]
  },
  {
   "cell_type": "code",
   "execution_count": null,
   "id": "27a81cd3",
   "metadata": {},
   "outputs": [],
   "source": [
    "ds_norkyst_høyvann_2018 = xr.open_dataset(file_2, engine=\"netcdf4\").sel(time = '2018-06-01T20:00:00.000000000')\n",
    "ds_norkyst_høyvann_2012 = xr.open_dataset(file_3, engine=\"netcdf4\").sel(time = '2012-06-01T15:00:00.000000000' )\n",
    "ds_norkyst_lavvann_2018 = xr.open_dataset(file_2, engine=\"netcdf4\").sel(time = '2018-06-01T01:00:00.000000000')\n",
    "ds_norkyst_lavvann_2012 = xr.open_dataset(file_3, engine = \"netcdf4\").sel(time = '2012-06-01T08:00:00.000000000' )"
   ]
  },
  {
   "cell_type": "code",
   "execution_count": null,
   "id": "afbf41be",
   "metadata": {},
   "outputs": [],
   "source": [
    "ds_norkyst_høyvann_2012.time\n",
    "#lavvannet og høyvannet var ikke veldig markant denne dagen, men har likevel tatt med de to tidspunktene som skiller seg mest ut"
   ]
  },
  {
   "cell_type": "code",
   "execution_count": null,
   "id": "ba5e0b09",
   "metadata": {},
   "outputs": [],
   "source": [
    "finding_2m_layer(ds_norkyst_lavvann_2012, title=\"01.06.2012 lavvann kl. 08 - 37cm\")"
   ]
  },
  {
   "cell_type": "code",
   "execution_count": null,
   "id": "e64cb182",
   "metadata": {},
   "outputs": [],
   "source": [
    "finding_2m_layer(ds_norkyst_høyvann_2012, title=\"01.06.2012 kl. 15 høyvann - 74cm\")"
   ]
  },
  {
   "cell_type": "code",
   "execution_count": null,
   "id": "3713386a",
   "metadata": {},
   "outputs": [],
   "source": [
    "finding_2m_layer(ds_norkyst_høyvann_2018, title=\"01.06.2018 kl.20 høyvann - 59cm\")"
   ]
  },
  {
   "cell_type": "code",
   "execution_count": null,
   "id": "b3e4367f",
   "metadata": {},
   "outputs": [],
   "source": [
    "finding_2m_layer(ds_norkyst_lavvann_2018, title=\"01.06.2018 kl. 01 lavvann - 33cm\")"
   ]
  },
  {
   "cell_type": "code",
   "execution_count": null,
   "id": "4797ce9e",
   "metadata": {},
   "outputs": [],
   "source": [
    "#Controlcheck -> checking wether the values from the non-transformed dataset corresponds with the values that have been transformed. \n",
    "ds_norkyst_lavvann_2018.sel(X = 800, Y = 800 )"
   ]
  },
  {
   "cell_type": "code",
   "execution_count": null,
   "id": "7d5edfc6",
   "metadata": {},
   "outputs": [],
   "source": [
    "#Seperate the functions, one that transforms and one that plots:\n",
    "#for time effiency \n",
    "\n",
    "def transformation(ds_name):\n",
    "    #Define necessary variables used for the transformation from s_layer to depth\n",
    "    hc = ds_name[\"hc\"] #Critical depth for stretching\n",
    "    cs_r = ds_name[\"Cs_r\"] #stretching curve at rho points\n",
    "    zeta = ds_name[\"zeta\"] #.fillna(0) #free-surface \n",
    "    H = ds_name[\"h\"] #bathymetry at rho-points (depth)\n",
    "    #Vtransform = ds_name[\"Vtransform\"] Not in this dataset\n",
    "    s_rho = ds_name[\"s_rho\"] #range 1,40. 40 is surface layer\n",
    "\n",
    "    #Transformation process\n",
    "    #if Vtransform == 1:\n",
    "        #Z_0_rho = hc * (s_rho - cs_r) + cs_r * H\n",
    "        #z_rho = Z_0_rho + zeta * (1+Z_0_rho/H)\n",
    "    #elif Vtransform == 2:\n",
    "    Z_0_rho = (hc * s_rho + cs_r * H) / (hc + H)\n",
    "    z_rho = zeta + (zeta + H) * Z_0_rho\n",
    "\n",
    "    ds_name.coords[\"z_rho\"] = z_rho.transpose() #Corrects the dimensions\n",
    "    return z_rho\n",
    "\n",
    "def add_coordinate(ds_name):\n",
    "    ds_name[\"z_rho\"] = transformation(ds_name)\n",
    "    return ds_name\n",
    "\n",
    "def plot_the_2m_layer(ds_name, title):\n",
    "    add_coordinate(ds_name = ds_name)\n",
    "    transformation(ds_name=ds_name)\n",
    "    z_rho = ds_name[\"z_rho\"]\n",
    "    z_rho_pos = abs(ds_name[\"z_rho\"])\n",
    "    diff = abs(z_rho_pos-2) #2meter\n",
    "    diff = diff.fillna(0)\n",
    "    index = diff.argmin(dim = \"s_rho\")\n",
    "    close_to_2m_val = z_rho.isel(s_rho=index)\n",
    "    #zero = nan in plot\n",
    "    index = index.where(index != 0)\n",
    "    ax = sns.heatmap(np.array(index)[::-1,::-1], vmin=25, cbar_kws={'label': 'Index'})\n",
    "    ax.set_title(title)\n",
    "    return index, close_to_2m_val, ax\n"
   ]
  },
  {
   "cell_type": "code",
   "execution_count": null,
   "id": "2e3499f9",
   "metadata": {},
   "outputs": [],
   "source": [
    "finding_2m_layer(ds_norkyst_lavvann_2018, title = \"sjalala\")"
   ]
  },
  {
   "cell_type": "code",
   "execution_count": null,
   "id": "5e852d97",
   "metadata": {},
   "outputs": [],
   "source": [
    "#Funker men output har bare kollapset\n",
    "test = plot_the_2m_layer(ds_norkyst_lavvann_2018,title=\"forsøk på å dele opp funk\")"
   ]
  },
  {
   "cell_type": "code",
   "execution_count": null,
   "id": "0c55a759",
   "metadata": {},
   "outputs": [],
   "source": [
    "test"
   ]
  },
  {
   "cell_type": "code",
   "execution_count": null,
   "id": "328e4973",
   "metadata": {},
   "outputs": [],
   "source": [
    "file1 = f'/lustre/storeB/project/fou/hi/foccus/datasets/symlinks/norkystv3-hindcast/2024/norkyst800-20240601.nc'\n",
    "ds_val = xr.open_dataset(file1, engine=\"netcdf4\").isel(X = 300, Y = 760,time = 0 )\n",
    "ds = xr.open_dataset(file1, engine=\"netcdf4\").isel(time = 0)"
   ]
  },
  {
   "cell_type": "code",
   "execution_count": null,
   "id": "c8427536",
   "metadata": {},
   "outputs": [],
   "source": [
    "#ds\n",
    "ds_val"
   ]
  },
  {
   "cell_type": "code",
   "execution_count": null,
   "id": "c9b17767",
   "metadata": {},
   "outputs": [],
   "source": [
    "lon = ds[\"lon\"]\n",
    "lat = ds[\"lat\"]\n",
    "temp = ds[\"temperature\"]\n",
    "\n",
    "lon_val = ds_val[\"lon\"]\n",
    "lat_val = ds_val[\"lat\"]\n",
    "temp_val = ds_val[\"temperature\"]"
   ]
  },
  {
   "cell_type": "code",
   "execution_count": null,
   "id": "e272419b",
   "metadata": {},
   "outputs": [],
   "source": [
    "#checking if selected gridpoint is in ocean\n",
    "plt.pcolormesh(lon, lat, temp[0,:,:])\n",
    "plt.scatter(lon_val,lat_val,temp_val[0], color =\"red\")"
   ]
  },
  {
   "cell_type": "code",
   "execution_count": null,
   "id": "b7f552df",
   "metadata": {},
   "outputs": [],
   "source": [
    "transformation(ds_val)"
   ]
  },
  {
   "cell_type": "code",
   "execution_count": null,
   "id": "3ad6e9dc",
   "metadata": {},
   "outputs": [],
   "source": [
    "#z_rho adds up for first two functions. Printing out a list to get the depth for all layers\n",
    "add_coordinate(ds_val)"
   ]
  },
  {
   "cell_type": "code",
   "execution_count": null,
   "id": "8f2325fb",
   "metadata": {},
   "outputs": [],
   "source": [
    "#Seperate the functions, one that transforms and one that plots:\n",
    "#for time effiency \n",
    "\n",
    "def transformation(ds_name):\n",
    "    #Define necessary variables used for the transformation from s_layer to depth\n",
    "    hc = ds_name[\"hc\"] #Critical depth for stretching\n",
    "    cs_r = ds_name[\"Cs_r\"] #stretching curve at rho points\n",
    "    zeta = ds_name[\"zeta\"] #.fillna(0) #free-surface \n",
    "    H = ds_name[\"h\"] #bathymetry at rho-points (depth)\n",
    "    #Vtransform = ds_name[\"Vtransform\"] Not in this dataset\n",
    "    s_rho = ds_name[\"s_rho\"] #range 1,40. 40 is surface layer\n",
    "\n",
    "    #Transformation process\n",
    "    #if Vtransform == 1:\n",
    "        #Z_0_rho = hc * (s_rho - cs_r) + cs_r * H\n",
    "        #z_rho = Z_0_rho + zeta * (1+Z_0_rho/H)\n",
    "    #elif Vtransform == 2:\n",
    "    Z_0_rho = (hc * s_rho + cs_r * H) / (hc + H)\n",
    "    z_rho = zeta + (zeta + H) * Z_0_rho\n",
    "\n",
    "    ds_name.coords[\"z_rho\"] = z_rho.transpose() #Corrects the dimensions\n",
    "    return z_rho\n",
    "\n",
    "def add_coordinate(ds_name):\n",
    "    ds_name[\"z_rho\"] = transformation(ds_name)\n",
    "    return ds_name\n",
    "\n",
    "def plot_the_2m_layer_grid(ds_name):\n",
    "    add_coordinate(ds_name = ds_name)\n",
    "    transformation(ds_name=ds_name)\n",
    "    z_rho = ds_name[\"z_rho\"]\n",
    "    z_rho_pos = abs(ds_name[\"z_rho\"])\n",
    "    diff = abs(z_rho_pos-2) #2meter\n",
    "    diff = diff.fillna(0)\n",
    "    index = diff.argmin(dim = \"s_rho\")\n",
    "    close_to_2m_val = z_rho.isel(s_rho=index)\n",
    "    #zero = nan in plot\n",
    "    index = index.where(index != 0)\n",
    "    #ax = sns.heatmap(np.array(index), vmin=25, cbar_kws={'label': 'Index'})\n",
    "    #ax.set_title(title)\n",
    "    return f'this is the selected {index}', close_to_2m_val"
   ]
  },
  {
   "cell_type": "code",
   "execution_count": null,
   "id": "98254bd9",
   "metadata": {},
   "outputs": [],
   "source": [
    "plot_the_2m_layer_grid(ds_val)"
   ]
  },
  {
   "cell_type": "code",
   "execution_count": null,
   "id": "f8c45a81",
   "metadata": {},
   "outputs": [],
   "source": [
    "#It picks out layer 37 which is the value nearest two meters. it seems to be correct"
   ]
  },
  {
   "cell_type": "code",
   "execution_count": null,
   "id": "171857c2",
   "metadata": {},
   "outputs": [],
   "source": []
  }
 ],
 "metadata": {
  "kernelspec": {
   "display_name": ".venv",
   "language": "python",
   "name": "python3"
  },
  "language_info": {
   "codemirror_mode": {
    "name": "ipython",
    "version": 3
   },
   "file_extension": ".py",
   "mimetype": "text/x-python",
   "name": "python",
   "nbconvert_exporter": "python",
   "pygments_lexer": "ipython3",
   "version": "3.11.11"
  }
 },
 "nbformat": 4,
 "nbformat_minor": 5
}
