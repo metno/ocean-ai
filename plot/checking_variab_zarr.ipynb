{
 "cells": [
  {
   "cell_type": "code",
   "execution_count": 1,
   "id": "4edcdc28",
   "metadata": {},
   "outputs": [],
   "source": [
    "#import necessary datasets  \n",
    "import xarray as xr\n",
    "from anemoi.datasets import open_dataset"
   ]
  },
  {
   "cell_type": "code",
   "execution_count": 2,
   "id": "261f9eb4",
   "metadata": {},
   "outputs": [],
   "source": [
    "file_name = f'/lustre/storeB/project/fou/hi/foccus/datasets/norkystv3_hindcast_2013_surface.zarr'\n",
    "ds = open_dataset(file_name)"
   ]
  },
  {
   "cell_type": "code",
   "execution_count": 7,
   "id": "18130d68",
   "metadata": {},
   "outputs": [
    {
     "data": {
      "text/html": [
       "<style>table.dataset td {\n",
       "    vertical-align: top;\n",
       "    text-align: left !important;\n",
       "}\n",
       "\n",
       "table.dataset span.dataset {\n",
       "    font-weight: bold !important;\n",
       "}\n",
       "\n",
       "table.dataset span.values {\n",
       "    font-style: italic !important;\n",
       "}\n",
       "</style>\n",
       "<table class=\"dataset\">\n",
       "<tr><td> <span class=\"dataset\">zarr</span> ...</td></tr>\n",
       "</table>"
      ],
      "text/plain": [
       "/lustre/storeB/project/fou/hi/foccus/datasets/norkystv3_hindcast_2013_surface.zarr"
      ]
     },
     "execution_count": 7,
     "metadata": {},
     "output_type": "execute_result"
    }
   ],
   "source": [
    "ds"
   ]
  },
  {
   "cell_type": "code",
   "execution_count": null,
   "id": "18519517",
   "metadata": {},
   "outputs": [],
   "source": []
  }
 ],
 "metadata": {
  "kernelspec": {
   "display_name": ".venv",
   "language": "python",
   "name": "python3"
  },
  "language_info": {
   "codemirror_mode": {
    "name": "ipython",
    "version": 3
   },
   "file_extension": ".py",
   "mimetype": "text/x-python",
   "name": "python",
   "nbconvert_exporter": "python",
   "pygments_lexer": "ipython3",
   "version": "3.11.11"
  }
 },
 "nbformat": 4,
 "nbformat_minor": 5
}
